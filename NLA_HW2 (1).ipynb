{
  "nbformat": 4,
  "nbformat_minor": 0,
  "metadata": {
    "colab": {
      "name": "NLA_HW2.ipynb",
      "provenance": [],
      "collapsed_sections": []
    },
    "kernelspec": {
      "display_name": "Python 3",
      "language": "python",
      "name": "python3"
    },
    "language_info": {
      "codemirror_mode": {
        "name": "ipython",
        "version": 3
      },
      "file_extension": ".py",
      "mimetype": "text/x-python",
      "name": "python",
      "nbconvert_exporter": "python",
      "pygments_lexer": "ipython3",
      "version": "3.8.3"
    },
    "accelerator": "GPU"
  },
  "cells": [
    {
      "cell_type": "markdown",
      "metadata": {
        "id": "t9v1vX4-OGIT"
      },
      "source": [
        "# Problem set 2 (35 + 55 + 15 + 28 = 133 pts)"
      ]
    },
    {
      "cell_type": "markdown",
      "metadata": {
        "id": "FOMNJ4TcOGIV"
      },
      "source": [
        "## Problem 1 (LU decomposition) 35 pts\n"
      ]
    },
    {
      "cell_type": "markdown",
      "metadata": {
        "id": "pYHDl6ppOGIV"
      },
      "source": [
        "### 1. LU for band matrices (7 pts)\n",
        "\n",
        "The complexity to find an LU decomposition of a dense $n\\times n$ matrix is $\\mathcal{O}(n^3)$.\n",
        "Significant reduction in complexity can be achieved if the matrix has a certain structure, e.g. it is sparse. \n",
        "In the following task we consider an important example of $LU$ for a special type of sparse matrices –– band matrices with the bandwidth $m$ equal to 3 or 5 which called tridiagonal and pentadiagonal respectively.\n",
        "\n",
        "- (5 pts) Write a function ```band_lu(diag_broadcast, n)``` which computes LU decomposition for tridiagonal or pentadiagonal matrix with given diagonal values. \n",
        "For example, input parametres ```(diag_broadcast = [4,-2,1], n = 4)``` mean that we need to find LU decomposition for the triangular matrix of the form:\n",
        "\n",
        "$$A = \\begin{pmatrix}\n",
        "-2 & 1 & 0 & 0\\\\\n",
        "4 & -2 & 1 & 0 \\\\\n",
        "0 & 4 & -2 & 1 \\\\\n",
        "0 & 0 & 4 & -2 \\\\\n",
        "\\end{pmatrix}.$$\n",
        "\n",
        "As an output it is considered to make ```L``` and ```U``` - 2D arrays representing diagonals in factors $L$ (```L[0]``` keeps first lower diagonal, ```L[1]``` keeps second lower, ...), and $U$ (```U[:,0]``` keeps main diagonal, ```U[:,1]``` keeps first upper, ...).\n",
        "- (2 pts) Compare execution time of the band LU decomposition using standard function from ```scipy```, i.e. which takes the whole matrix and does not know about its special structure, and band decomposition of yours implementation. Comment on the results."
      ]
    },
    {
      "cell_type": "markdown",
      "metadata": {
        "id": "sa0pvblRln0-"
      },
      "source": [
        "### Consider tridiagolan:\n",
        "\n",
        "$A = \\begin{pmatrix}\n",
        "a & c & 0 & 0\\\\\n",
        "b & a & c & 0 \\\\\n",
        "0 & b & a & c \\\\\n",
        "0 & 0 & b & a \\\\\n",
        "\\end{pmatrix} = \\begin{pmatrix}\n",
        "1 & 0 & 0 & 0\\\\\n",
        "\\frac{b}{a} & 1 & 0 & 0\\\\\n",
        "0 & \\frac{b}{a - \\frac{bc}{a}} & 1 & 0\\\\\n",
        "0 & 0 & \\frac{b}{a - \\frac{bc}{a - \\frac{bc}{a}}} & 1\\\\ \n",
        "\\end{pmatrix} \n",
        "\\begin{pmatrix}\n",
        "a & c & 0 & 0 \\\\\n",
        "0 & a - \\frac{bc}{a} & c & 0 \\\\\n",
        "0 & 0 & a - \\frac{bc}{a - \\frac{bc}{a}} & c \\\\\n",
        "0 & 0 & 0 & a - \\frac{bc}{a - \\frac{bc}{a - \\frac{bc}{a}}}\\\\\n",
        "\\end{pmatrix} = LU$\n",
        "\n",
        "For larger matrix the same reccurent formulas for elements of L and U matrices."
      ]
    },
    {
      "cell_type": "code",
      "metadata": {
        "id": "BvY7icWBOGIW"
      },
      "source": [
        "from scipy.sparse import diags # can be used with broadcasting of scalars if desired dimensions are large\n",
        "import numpy as np\n",
        "from scipy.linalg import lu\n",
        "\n",
        "# INPUT : diag_broadcast - list of diagonals value to broadcast,length equal to 3 or 5; n - integer, band matrix shape.\n",
        "# OUTPUT : L - 2D np.ndarray, L.shape[0] depends on bandwidth, L.shape[1] = n-1, do not store main diagonal, where all ones;                  add zeros to the right side of rows to handle with changing length of diagonals.\n",
        "#          U - 2D np.ndarray, U.shape[0] = n, U.shape[1] depends on bandwidth;\n",
        "#              add zeros to the bottom of columns to handle with changing length of diagonals.\n",
        "def band_lu (diag_broadcast, n):\n",
        "    if len(diag_broadcast) == 3:\n",
        "      L = np.zeros(n-1)\n",
        "      U = np.zeros((n,2))\n",
        "      U[0,0] = diag_broadcast[1]\n",
        "      U[0,1] = diag_broadcast[2]\n",
        "      for i in range (1,n):\n",
        "        if U[i-1,0] == 0:\n",
        "          raise Exception('Need pivoting')\n",
        "        else :\n",
        "          L[i-1] = diag_broadcast[0]/U[i-1,0]\n",
        "          U[i,0] =  diag_broadcast[1] - diag_broadcast[2]*L[i-1]\n",
        "          U[i,1] = diag_broadcast[2]\n",
        "      \n",
        "    if len(diag_broadcast) == 5:\n",
        "      U = np.zeros((n, 3))\n",
        "      L = np.zeros((n-1, 2), dtype=float)\n",
        "      U[0, 0] = diag_broadcast[2]\n",
        "      U[0, 1] = diag_broadcast[3]\n",
        "      U[0, 2] = diag_broadcast[4]\n",
        "      L[0, 0] = diag_broadcast[1]/diag_broadcast[2]\n",
        "      U[1, 0] = diag_broadcast[2] - U[0, 1]*L[0, 0]\n",
        "      for i in range(1, n-1):\n",
        "         if U[i,0] == 0:\n",
        "            raise Exception('Need pivoting')\n",
        "         U[i, 2] = diag_broadcast[4]\n",
        "         L[i-1,1] = diag_broadcast[0]/U[i-1, 0]\n",
        "         U[i, 1] = diag_broadcast[3] - diag_broadcast[4]*L[i-1, 0]\n",
        "         L[i, 0] = (diag_broadcast[1] - L[i-1, 1]*U[i-1, 1])/U[i, 0]\n",
        "         U[i+1, 0] = diag_broadcast[2] - diag_broadcast[4] * L[i-1, 1] - L[i, 0]*U[i, 1]\n",
        "\n",
        "    return L, U"
      ],
      "execution_count": null,
      "outputs": []
    },
    {
      "cell_type": "code",
      "metadata": {
        "id": "bXhF14eTHQmt"
      },
      "source": [
        "def sci_lu(diag_broadcast, n):\n",
        "    if len(diag_broadcast) == 3:\n",
        "        #diagonals = np.array([[diag_broadcast[0] for i in range (n-1)], [diag_broadcast[1] for i in range (n)],\n",
        "        #      [diag_broadcast[2] for i in range (n-1)]])\n",
        "        A = diags(diag_broadcast, [-1, 0, 1], shape=(n, n)).toarray()\n",
        "        \n",
        "    else: \n",
        "        #diagonals = np.array([[diag_broadcast[0] for i in range (n-2)], [diag_broadcast[1] for i in range (n-1)],\n",
        "        #      [diag_broadcast[2] for i in range (n)], [diag_broadcast[3] for i in range (n-1)],[diag_broadcast[4] for i in range (n-2)]])\n",
        "        A = diags(diag_broadcast, [-2,-1, 0, 1,2], shape=(n, n)).toarray()      \n",
        "\n",
        "    return lu(A)"
      ],
      "execution_count": null,
      "outputs": []
    },
    {
      "cell_type": "code",
      "metadata": {
        "id": "hxbsy6WxCd11"
      },
      "source": [
        "diag_broadcast = np.random.rand(5)\n",
        "n = 4"
      ],
      "execution_count": null,
      "outputs": []
    },
    {
      "cell_type": "code",
      "metadata": {
        "id": "uzK47rCSCnSl"
      },
      "source": [
        "L,U = band_lu (diag_broadcast, n)"
      ],
      "execution_count": null,
      "outputs": []
    },
    {
      "cell_type": "code",
      "metadata": {
        "id": "qpk9-7y5mESx"
      },
      "source": [
        "P,L_s,U_s = lu(sci_lu (diag_broadcast, n))"
      ],
      "execution_count": null,
      "outputs": []
    },
    {
      "cell_type": "code",
      "metadata": {
        "id": "XVySYJbTOGIa"
      },
      "source": [
        "# for 3-diagonal\n",
        "if len(diag_broadcast) == 3:\n",
        "  diagonals = np.array([L, [1 for i in range (n)]])\n",
        "  L_big = diags(diagonals, [-1, 0]).toarray()\n",
        "  diagonals = np.array([U[:,0],U[:,-1]])\n",
        "  U_big = diags(diagonals, [0, 1]).toarray()\n",
        "else:\n",
        "# for 5-diagonal\n",
        "  diagonals = np.array([L[:,0],L[:,1], [1 for i in range (n)]])\n",
        "  L_big = diags(diagonals, [-1,-2,0]).toarray()\n",
        "  diagonals = np.array([U[:,0],U[:-1,1], U[:-2,2]])\n",
        "  U_big = diags(diagonals, [0, 1,2]).toarray()"
      ],
      "execution_count": null,
      "outputs": []
    },
    {
      "cell_type": "code",
      "metadata": {
        "colab": {
          "base_uri": "https://localhost:8080/"
        },
        "id": "BQk-buBqeAoe",
        "outputId": "bce0ed6e-d43a-4677-aa39-5b43f0d65069"
      },
      "source": [
        "# Check, if we find correc LU\n",
        "print(np.allclose(sci_lu(diag_broadcast, n),L_big.dot(U_big)))"
      ],
      "execution_count": null,
      "outputs": [
        {
          "output_type": "stream",
          "text": [
            "True\n"
          ],
          "name": "stdout"
        }
      ]
    },
    {
      "cell_type": "markdown",
      "metadata": {
        "id": "t8GKFmYPxEWT"
      },
      "source": [
        "- (2 pts) Compare execution time of the band LU decomposition using standard function from ```scipy```, i.e. which takes the whole matrix and does not know about its special structure, and band decomposition of yours implementation. Comment on the results."
      ]
    },
    {
      "cell_type": "code",
      "metadata": {
        "id": "XOVNWr-XsfCp"
      },
      "source": [
        "time_sci = []\n",
        "time_band = []\n",
        "for i in range (10,500,50):\n",
        "  diag_broadcast = np.random.rand(5)\n",
        "  n = i\n",
        "  t1 = %timeit -o -q lu(np.eye(i, i, k=-2) * (diag_broadcast[0]) + np.eye(i, i, k=-1) * (diag_broadcast[1]) + np.eye(i, i, k=0) * (diag_broadcast[2]) + np.eye(i, i, k=1) * (diag_broadcast[3]) + np.eye(i, i, k = 2) * (diag_broadcast[4]))\n",
        "  time_sci.append(t1.best)\n",
        "  t2 = %timeit -o -q band_lu(diag_broadcast, n)\n",
        "  time_band.append(t2.best)\n"
      ],
      "execution_count": null,
      "outputs": []
    },
    {
      "cell_type": "code",
      "metadata": {
        "id": "_ILEsW0PugAb"
      },
      "source": [
        "time_sci_3 = []\n",
        "time_band_3 = []\n",
        "for i in range (10,500,50):\n",
        "  diag_broadcast = np.random.rand(3)\n",
        "  n = i\n",
        "  t1 = %timeit -o -q (sci_lu (diag_broadcast, n))\n",
        "  time_sci_3.append(t1.best)\n",
        "  t2 = %timeit -o -q band_lu(diag_broadcast, n)\n",
        "  time_band_3.append(t2.best)\n"
      ],
      "execution_count": null,
      "outputs": []
    },
    {
      "cell_type": "code",
      "metadata": {
        "colab": {
          "base_uri": "https://localhost:8080/",
          "height": 545
        },
        "id": "OAXuW5LmvKnE",
        "outputId": "a50b6d00-d1a6-4ca8-c201-9526b250f846"
      },
      "source": [
        "import matplotlib.pyplot as plt\n",
        "plt.figure(figsize=(10, 8))\n",
        "dim = np.arange(10,500,50)\n",
        "plt.plot(dim, time_sci_3, label = 'scipy',c = 'lightblue')\n",
        "plt.scatter(dim, time_sci_3, marker = '+',s = 62, c = 'darkblue')\n",
        "plt.plot(dim, time_band_3, label = 'band lu', c = 'lightgreen')\n",
        "plt.scatter(dim, time_band_3, marker = '+',s = 62, c = 'darkgreen')\n",
        "plt.xlabel ('n',fontsize=20)\n",
        "plt.ylabel('time',fontsize=20)\n",
        "plt.legend(fontsize=20)\n",
        "plt.yscale(\"log\")\n",
        "plt.title('For 3-diagonal matrix',fontsize=22)\n",
        "\n"
      ],
      "execution_count": null,
      "outputs": [
        {
          "output_type": "execute_result",
          "data": {
            "text/plain": [
              "Text(0.5, 1.0, 'For 3-diagonal matrix')"
            ]
          },
          "metadata": {
            "tags": []
          },
          "execution_count": 30
        },
        {
          "output_type": "display_data",
          "data": {
            "image/png": "[encoded data removed]",
            "text/plain": [
              "<Figure size 720x576 with 1 Axes>"
            ]
          },
          "metadata": {
            "tags": [],
            "needs_background": "light"
          }
        }
      ]
    },
    {
      "cell_type": "code",
      "metadata": {
        "colab": {
          "base_uri": "https://localhost:8080/",
          "height": 545
        },
        "id": "L-7DcRX9tTvN",
        "outputId": "67dba8ac-84ed-4bde-c8a7-a64d27403290"
      },
      "source": [
        "import matplotlib.pyplot as plt\n",
        "plt.figure(figsize=(10, 8))\n",
        "dim = np.arange(10,500,50)\n",
        "plt.plot(dim, time_sci, label = 'scipy',c = 'lightblue')\n",
        "plt.scatter(dim, time_sci, marker = '+',s = 62, c = 'darkblue')\n",
        "plt.plot(dim, time_band, label = 'band lu', c = 'lightgreen')\n",
        "plt.scatter(dim, time_band, marker = '+',s = 62, c = 'darkgreen')\n",
        "plt.xlabel ('n',fontsize=20)\n",
        "plt.ylabel('time',fontsize=20)\n",
        "plt.legend(fontsize=20)\n",
        "plt.yscale(\"log\")\n",
        "plt.title('For 5-diagonal matrix',fontsize=22)\n"
      ],
      "execution_count": null,
      "outputs": [
        {
          "output_type": "execute_result",
          "data": {
            "text/plain": [
              "Text(0.5, 1.0, 'For 5-diagonal matrix')"
            ]
          },
          "metadata": {
            "tags": []
          },
          "execution_count": 26
        },
        {
          "output_type": "display_data",
          "data": {
            "image/png": "[encoded data removed]",
            "text/plain": [
              "<Figure size 720x576 with 1 Axes>"
            ]
          },
          "metadata": {
            "tags": [],
            "needs_background": "light"
          }
        }
      ]
    },
    {
      "cell_type": "markdown",
      "metadata": {
        "id": "_iM6NwHQOGId"
      },
      "source": [
        "### 2. Stability of LU (8 pts)\n",
        "\n",
        "Let\n",
        "$A = \\begin{pmatrix}\n",
        "\\varepsilon & 1 & 0\\\\\n",
        "1 & 1 & 1 \\\\\n",
        "0 & 1 & 1\n",
        "\\end{pmatrix}.$ \n",
        "* (5 pts) Find analytically LU decomposition with and without pivoting for the matrix $A$.\n",
        "* (3 pts) Explain, why can the LU decomposition fail to approximate factors $L$ and $U$ for $|\\varepsilon|\\ll 1$ in computer arithmetic?"
      ]
    },
    {
      "cell_type": "markdown",
      "metadata": {
        "id": "wwaaOPgEs86e"
      },
      "source": [
        "* (5 pts) Find analytically LU decomposition with and without pivoting for the matrix $A$\n",
        "\n",
        "  -  without pivotiong\n",
        "\n",
        "  $A = \\begin{pmatrix}\n",
        "  \\varepsilon & 1 & 0\\\\\n",
        "  1 & 1 & 1 \\\\\n",
        "  0 & 1 & 1\n",
        "  \\end{pmatrix} = \\begin{pmatrix}\n",
        "  1 & 0 & 0\\\\\n",
        "  \\frac{1}{\\epsilon}& 1 & 0\\\\\n",
        "  0& \\frac{1}{1 - \\frac{1}{\\epsilon}}& 1\n",
        "  \\end{pmatrix} \\begin{pmatrix}\n",
        "  \\epsilon & 1 & 0\\\\\n",
        "  0 & 1 - \\frac{1}{\\epsilon} & 1\\\\\n",
        "  0 & 0 & 1 - \\frac{1}{1 - \\frac{1}{\\epsilon}}\n",
        "  \\end{pmatrix} =  LU$\n",
        "\n",
        "  - with pivoting\n",
        "\n",
        "  1) $A_0 = \\begin{pmatrix}\n",
        "  1 & 1 & 1 \\\\\n",
        "  \\epsilon & 1 & 0\\\\\n",
        "  0 & 1 & 1\n",
        "  \\end{pmatrix}\\\\ \n",
        "  L_0 = \\begin{pmatrix}\n",
        "  1 & 0 & 0\\\\\n",
        "  \\epsilon & 1 & 0\\\\\n",
        "  0 & * & 1\n",
        "  \\end{pmatrix}\\\\\n",
        "  U_0 = \\begin{pmatrix}\n",
        "  1 & 1 & 1\\\\\n",
        "  0 & 1 - \\epsilon & - \\epsilon\\\\\n",
        "  0 & 1 & 1\n",
        "  \\end{pmatrix}$\n",
        "\n",
        "  2)  $U_{01} = \\begin{pmatrix}\n",
        "  1 & 1 & 1\\\\\n",
        "  0 & 1 & 1 \\\\\n",
        "  0 & 1 - \\epsilon & - \\epsilon\n",
        "  \\end{pmatrix}$\n",
        "\n",
        "  $L_1 = \\begin{pmatrix}\n",
        "  1 & 0 & 0\\\\\n",
        "  0 & 1 & 0\\\\\n",
        "  \\epsilon & 1-\\epsilon& 1\n",
        "  \\end{pmatrix}\\\\\n",
        "  U_1 = \\begin{pmatrix}\n",
        "  1 & 1 & 1\\\\\n",
        "  0 & 1  & 1\\\\\n",
        "  0 & 0 & -1\n",
        "  \\end{pmatrix}$\n",
        "\n",
        "  $A = \\begin{pmatrix}\n",
        "  0 & 0 & 1\\\\\n",
        "  1 & 0 & 0\\\\\n",
        "  0 & 1 & 0\n",
        "  \\end{pmatrix}\n",
        "  \\begin{pmatrix}\n",
        "  1 & 0 & 0\\\\\n",
        "  0 & 1 & 0\\\\\n",
        "  \\epsilon & 1-\\epsilon& 1\n",
        "  \\end{pmatrix} \\begin{pmatrix}\n",
        "  1 & 1 & 1\\\\\n",
        "  0 & 1  & 1\\\\\n",
        "  0 & 0 & -1\n",
        "  \\end{pmatrix} = PLU$"
      ]
    },
    {
      "cell_type": "markdown",
      "metadata": {
        "id": "hBYm7bMe2NF0"
      },
      "source": [
        "* (3 pts) Explain, why can the LU decomposition fail to approximate factors $L$ and $U$ for $|\\varepsilon|\\ll 1$ in computer arithmetic?\n",
        "\n",
        "  Considereng $|\\epsilon| \\ll 1$ we will have overflow to $\\infty$ of $\\frac{1}{\\epsilon}$"
      ]
    },
    {
      "cell_type": "markdown",
      "metadata": {
        "id": "EQwdRJSIOGIg"
      },
      "source": [
        "### 3. Block LU (10 pts)\n",
        "\n",
        "Let $A = \\begin{bmatrix} A_{11} & A_{12} \\\\ A_{21} & A_{22} \\end{bmatrix}$ be a block matrix. The goal is to solve the linear system\n",
        "\n",
        "$$\n",
        "     \\begin{bmatrix} A_{11} & A_{12} \\\\ A_{21} & A_{22} \\end{bmatrix} \\begin{bmatrix} u_1 \\\\ u_2 \\end{bmatrix} = \\begin{bmatrix} f_1 \\\\ f_2 \\end{bmatrix}.\n",
        "$$\n",
        "\n",
        "* (2 pts) Using block elimination find matrix $S$ and right-hand side $\\hat{f_2}$ so that $u_2$ can be found from $S u_2 = \\hat{f_2}$. Note that the matrix $S$ is called <font color='red'> Schur complement </font> of the block $A_{11}$.\n",
        "* (4 pts) Using Schur complement properties prove that \n",
        "\n",
        "$$\\det(X+AB) = \\det(X)\\det(I+BX^{-1}A), $$\n",
        "\n",
        "\n",
        "where $X$ - nonsingular square matrix.\n",
        "* (4 pts) Let matrix $F \\in \\mathbb{R}^{m \\times n}$ and $G \\in \\mathbb{R}^{n \\times m}$. Prove that \n",
        "\n",
        "$$\\det(I_m - FG) = \\det(I_n - GF).$$"
      ]
    },
    {
      "cell_type": "markdown",
      "metadata": {
        "id": "2sfb0nm4cn39"
      },
      "source": [
        "* (2 pts) Using block elimination find matrix $S$ and right-hand side $\\hat{f_2}$ so that $u_2$ can be found from $S u_2 = \\hat{f_2}$. Note that the matrix $S$ \n",
        "\n",
        "1) $A_{11} u_1 + A_{21} u_2 = f_1$\n",
        "\n",
        "2) $A_{21} u_1 + A_{22} u_2 = f_2$\n",
        "\n",
        "3) From 1) $\\Rightarrow u_1 = A_{11}^{-1}(f_1 - A_{21}u_2)$\n",
        "\n",
        "4) From 2) and 3)  $\\Rightarrow A_{21}A_{11}^{-1}(f_1 - A_{21}u_2) + A_{22}u_2 = f_2 \\rightarrow (-A_{21}A_{11}^{-1}A_{21} + A_{22})u_2 = f_2 - A_{21}A_{11}^{-1}f_1$\n",
        "\n",
        "$\\hat{f_2} = f_2 - A_{21}A_{11}^{-1}f_1$\n",
        "\n",
        "$S = -A_{21}A_{11}^{-1}A_{21} + A_{22}$"
      ]
    },
    {
      "cell_type": "markdown",
      "metadata": {
        "id": "olsaTf-VeHKQ"
      },
      "source": [
        "* (4 pts) Using Schur complement properties prove that \n",
        "\n",
        "$$\\det(X+AB) = \\det(X)\\det(I+BX^{-1}A), $$\n",
        "\n",
        "\n",
        "where $X$ - nonsingular square matrix."
      ]
    },
    {
      "cell_type": "markdown",
      "metadata": {
        "id": "KkK2DnqoeIXB"
      },
      "source": [
        " $A = \\begin{bmatrix} A_{11} & A_{12} \\\\ A_{21} & A_{22} \\end{bmatrix} = \\begin{bmatrix} X & A \\\\ -B & I \\end{bmatrix} $\n",
        "\n",
        "$ S = BX^{-1}A + I$\n",
        "\n",
        "$A =  \\begin{bmatrix} I & 0 \\\\ -BX^{-1} & I \\end{bmatrix}  \\begin{bmatrix} X & A \\\\ 0 & S \\end{bmatrix} = \\begin{bmatrix} X & 0 \\\\ -B & I \\end{bmatrix} \\begin{bmatrix} I& X^{-1}A\\\\ 0 & S \\end{bmatrix}$\n",
        "\n",
        "$det (A) = det(\\begin{bmatrix} X & A \\\\ -B & I \\end{bmatrix}) = det (\\begin{bmatrix} X & 0 \\\\ -B & I \\end{bmatrix})det(\\begin{bmatrix} I& X^{-1}A\\\\ 0 & S \\end{bmatrix}) \\Rightarrow \\\\\n",
        "det(X + AB) = det(X)*det(S) = det(X)det(BX^{-1}A + I)$"
      ]
    },
    {
      "cell_type": "markdown",
      "metadata": {
        "id": "VNbfqdgPkfsx"
      },
      "source": [
        "* (4 pts) Let matrix $F \\in \\mathbb{R}^{m \\times n}$ and $G \\in \\mathbb{R}^{n \\times m}$. Prove that \n",
        "\n",
        "$$\\det(I_m - FG) = \\det(I_n - GF).$$"
      ]
    },
    {
      "cell_type": "markdown",
      "metadata": {
        "id": "bJwayhcDkgsY"
      },
      "source": [
        "From the exercise above:$$\\det(X+AB) = \\det(X)\\det(I+BX^{-1}A), $$\n",
        "\n",
        "Let's take $X = I_m$, $A = -F$ and $B = G$, then $I_m + (GI_n^{-1}(-F)) = I_m - GF$\n",
        "\n",
        "and $$\\det(I_m - FG) = \\det(I_n - GF).$$\n"
      ]
    },
    {
      "cell_type": "markdown",
      "metadata": {
        "id": "YFc3BR_TOGIj"
      },
      "source": [
        "### 4. Efficient implementation of LU decomposition (10 pts)\n",
        "\n",
        "In the lecture we provide naive implementation of LU factorization with loops and elementwise update of factors. In this subproblem we ask you to provide more efficient implementation of LU factorization and explain how you derive this implementation (main ideas and how you use them in this particular case). \n",
        "- (1 pts) Main idea for speed up computation of LU factorization (without using built-in function!) \n",
        "- (4 pts) Implement the presented approach to speed up LU \n",
        "- (1 pts) Illustrate numerically that your implementation is correct\n",
        "- (2 pts) Provide the comparison of running time of naive implementation from the lecture, your implementation and NumPy built-in function for range of matrix dimensions. We expect you plot the running time vs matrix dimension for these implementations. So you should get the plot with three lines.\n",
        "- (2 pts) Discuss the obtained results and explain what other tricks are possible to accelerate computing the LU factorization. \n",
        "\n",
        "NumPy or JAX are both ok in this subproblem, but please use the single library for all implementations. "
      ]
    },
    {
      "cell_type": "markdown",
      "metadata": {
        "id": "whe6lR89qdkc"
      },
      "source": [
        "In this task we can use block LU factorization:\n",
        "\n",
        "$A = \\begin{bmatrix} A_{11} & A_{12} \\\\ A_{21} & A_{22} \\end{bmatrix} = \\begin{bmatrix} L_{11} & 0 \\\\ L_{21} & L_{22} \\end{bmatrix} \\begin{bmatrix} U_{11} & U_{12} \\\\ 0 & U_{22} \\end{bmatrix} $\n",
        "\n",
        "$A_{11} = L_{11}U_{11}$ and  $A_{21} = L_{21}U_{11}$\n",
        "\n",
        "$A_{12} = L_{11}U_{12}$ and $A_{22} = L_{21}U_{12} + L_{22}U_{22}$"
      ]
    },
    {
      "cell_type": "code",
      "metadata": {
        "id": "eODuOReB3z3Q"
      },
      "source": [
        "import jax.numpy as jnp\n",
        "import jax\n",
        "from jax.config import config\n",
        "config.update(\"jax_enable_x64\", True)"
      ],
      "execution_count": 32,
      "outputs": []
    },
    {
      "cell_type": "code",
      "metadata": {
        "id": "4RBDYAWUOGIj"
      },
      "source": [
        "def naive_LU (a):\n",
        "    a = jnp.array(a)\n",
        "    #a0 = a.copy()\n",
        "    n = a.shape[0]\n",
        "    L = jnp.zeros((n, n))\n",
        "    U = jnp.zeros((n, n))\n",
        "    for k in range(n): #Eliminate one row   \n",
        "        L = jax.ops.index_update(L, jax.ops.index[k, k], 1)\n",
        "        for i in range(k+1, n):\n",
        "            L = jax.ops.index_update(L, jax.ops.index[i, k], a[i, k] / a[k, k])\n",
        "            for j in range(k+1, n):\n",
        "                a = jax.ops.index_add(a, jax.ops.index[i, j], -L[i, k] * a[k, j])\n",
        "        for j in range(k, n):\n",
        "            U = jax.ops.index_update(U, jax.ops.index[k, j], a[k, j])\n",
        "    return L,U\n"
      ],
      "execution_count": 33,
      "outputs": []
    },
    {
      "cell_type": "code",
      "metadata": {
        "id": "3XYZdND2sHZ7"
      },
      "source": [
        "def block_lu(a):\n",
        "  n = a.shape[0]\n",
        "  \n",
        "  if n <= 4:\n",
        "      L,U = naive_LU(a)\n",
        "  else:\n",
        "    A11 = a[0:n//2,0:n//2]\n",
        "    A12 = a[0:n//2,n//2:]\n",
        "    A21 = a[n//2:,0:n//2]\n",
        "    A22 = a[n//2:,n//2:]\n",
        "    #print(A11.shape,A12.shape,A21.shape,A22.shape)\n",
        "    #First block\n",
        "\n",
        "    L11,U11 = block_lu(A11)\n",
        "    U12 = jax.numpy.linalg.inv(L11) @ (A12)\n",
        "    L21 = A21 @ (jax.numpy.linalg.inv(U11))\n",
        "    L22,U22 = block_lu(A22 - L21 @ (U12))\n",
        "    L = jnp.block([[L11, jnp.zeros((n//2, n - n//2))],\n",
        "                    [L21, L22]])\n",
        "    U = jnp.block([[U11, U12],\n",
        "                   [jnp.zeros((n - n//2, n//2)), U22]])\n",
        "  return L, U\n"
      ],
      "execution_count": 56,
      "outputs": []
    },
    {
      "cell_type": "code",
      "metadata": {
        "id": "jXPUs1xdGm2m"
      },
      "source": [
        "from jax import random\n",
        "import numpy as np\n",
        "key = random.PRNGKey(0)\n",
        "A = random.uniform(key, (6,6), minval=0.0, maxval=200.0, dtype=float)\n",
        "\n"
      ],
      "execution_count": 81,
      "outputs": []
    },
    {
      "cell_type": "code",
      "metadata": {
        "colab": {
          "base_uri": "https://localhost:8080/"
        },
        "id": "rlLMFds8X9Ex",
        "outputId": "08ed1e87-7678-4602-d144-28fb7484baac"
      },
      "source": [
        "L, U = block_lu(A)\n",
        "print('Illustrate numerically that your implementation is correct')\n",
        "print(np.allclose(A,L@U))"
      ],
      "execution_count": 82,
      "outputs": [
        {
          "output_type": "stream",
          "text": [
            "Illustrate numerically that your implementation is correct\n",
            "True\n"
          ],
          "name": "stdout"
        }
      ]
    },
    {
      "cell_type": "code",
      "metadata": {
        "colab": {
          "base_uri": "https://localhost:8080/"
        },
        "id": "zwbjB00OMWWP",
        "outputId": "e48ee946-4395-4b65-b475-cec10d07d3ed"
      },
      "source": [
        "from jax import random\n",
        "import numpy as np\n",
        "key = random.PRNGKey(0)\n",
        "A = random.uniform(key, (5,5), minval=0.0, maxval=200.0, dtype=float)\n",
        "\n",
        "L, U = block_lu(A)\n",
        "print()\n",
        "print(np.allclose(A,L@U))"
      ],
      "execution_count": null,
      "outputs": [
        {
          "output_type": "stream",
          "text": [
            "True\n"
          ],
          "name": "stdout"
        }
      ]
    },
    {
      "cell_type": "code",
      "metadata": {
        "id": "bvz2HQpBLe15"
      },
      "source": [
        "from scipy.linalg import lu"
      ],
      "execution_count": 58,
      "outputs": []
    },
    {
      "cell_type": "code",
      "metadata": {
        "id": "eKLB09VpLjTf"
      },
      "source": [
        "time_naive = []\n",
        "time_block = []\n",
        "time_scipy = []\n",
        "for i in range (3,30,4):\n",
        "  A = random.uniform(key, (i,i), minval=0.0, maxval=200.0, dtype=float)\n",
        "  t1 = %timeit -o -q naive_LU(A)\n",
        "  time_naive.append(t1.best)\n",
        "  t2 = %timeit -o -q block_lu(A)\n",
        "  time_block.append(t2.best)\n",
        "  t3 = %timeit -o -q lu(A)\n",
        "  time_scipy.append(t3.best)\n"
      ],
      "execution_count": 59,
      "outputs": []
    },
    {
      "cell_type": "code",
      "metadata": {
        "colab": {
          "base_uri": "https://localhost:8080/",
          "height": 411
        },
        "id": "9JfP_wTO4ASg",
        "outputId": "f26b7705-d16b-4be3-93ee-c938018bc5ff"
      },
      "source": [
        "import matplotlib.pyplot as plt\n",
        "plt.figure(figsize=(8, 6))\n",
        "\n",
        "plt.plot(np.arange(3,3 + len(time_naive)*4,4), np.array(time_naive), label = 'Naive algoritm')\n",
        "plt.scatter(np.arange(3,3 + len(time_naive)*4,4), np.array(time_naive), marker = '+', s = 80)\n",
        "plt.plot(np.arange(3,3 + len(time_block)*4,4), np.array(time_block), label = 'Block algoritm')\n",
        "plt.scatter(np.arange(3,3 + len(time_block)*4,4), np.array(time_block), marker = '+', s = 80)\n",
        "plt.plot(np.arange(3,3 +len(time_scipy)*4,4), np.array(time_scipy), label = 'Sci LU')\n",
        "plt.scatter(np.arange(3,3 + len(time_scipy)*4,4), np.array(time_scipy), marker = '+', s = 80)\n",
        "plt.legend(fontsize = 15)\n",
        "plt.xlabel('t',fontsize = 15)\n",
        "\n",
        "plt.ylabel('matrix size',fontsize = 15)"
      ],
      "execution_count": 61,
      "outputs": [
        {
          "output_type": "execute_result",
          "data": {
            "text/plain": [
              "Text(0, 0.5, 'matrix size')"
            ]
          },
          "metadata": {
            "tags": []
          },
          "execution_count": 61
        },
        {
          "output_type": "display_data",
          "data": {
            "image/png": "[encoded data removed]",
            "text/plain": [
              "<Figure size 576x432 with 1 Axes>"
            ]
          },
          "metadata": {
            "tags": [],
            "needs_background": "light"
          }
        }
      ]
    },
    {
      "cell_type": "markdown",
      "metadata": {
        "id": "8DaPAmZPOGIm"
      },
      "source": [
        "## Problem 2 (eigenvalues)  55 pts\n",
        "\n",
        "### 1. Theoretical tasks (10 pts)\n"
      ]
    },
    {
      "cell_type": "markdown",
      "metadata": {
        "id": "TM9DoO9kmETn"
      },
      "source": [
        "* (5 pts) Prove that normal matrix is Hermitian iff its eigenvalues are real. Prove that normal matrix is unitary iff its eigenvalues satisfy $|\\lambda| = 1$. "
      ]
    },
    {
      "cell_type": "markdown",
      "metadata": {
        "id": "2hOVLHtemETo"
      },
      "source": [
        "1) $\\Rightarrow$ If normal matrix is hermitian $\\rightarrow$ its eigenvalues are real. \n",
        "\n",
        "Hermitions matrix means: $A = A^*$ and normal - $AA^* = A^*A$\n",
        "\n",
        "Let's consider decomposition of normal matrix A: $A = U\\sum U^*$ and $A^* = (U\\sum U^*)^* = U\\sum^* U^* = U\\sum U^* = A$ and it means, that $\\sum = \\sum^*$ and $\\lambda_i = \\lambda_i^*$ = > $\\lambda_i$ are real\n",
        "\n",
        "2) $\\Leftarrow$ If normal matrix has real eigenvalues $\\rightarrow$ it is hermition.\n",
        "\n",
        "Let's consider the same decomposition as in 1): $A = U\\sum U^*$ and $A^* = (U\\sum U^*)^* = U\\sum^* U^*$. As we know, that eigenvalues are real: $\\sum = \\sum^*$ and $A^* = (U\\sum U^*)^* = U\\sum^* U^* = U\\sum U^* = A$. That's proof, that matrix is hermition $A = A^*$\n",
        " "
      ]
    },
    {
      "cell_type": "markdown",
      "metadata": {
        "id": "2kUi9JEbmETp"
      },
      "source": [
        "--------------------------------------------------------------------------------------------------------------------------"
      ]
    },
    {
      "cell_type": "markdown",
      "metadata": {
        "id": "pxsysF4YmETq"
      },
      "source": [
        "Unitary matrices: $UU^* = U^*U = I$\n",
        "1) $\\Rightarrow$ If normal matrix is unitary $\\rightarrow$ its eigenvalues satisfy $|\\lambda| = 1$\n",
        "\n",
        "As A - normal: $A = U\\sum U^*$ and $AA^* = U\\sum U^*U\\sum^* U^* = U\\sum \\sum^* U^* = U diag(\\lambda_i^2) U^* = I \\rightarrow U^*U diag(\\lambda_i^2) U^*U = U^*IU \\rightarrow diag(\\lambda_i^2) = I \\rightarrow |\\lambda| = 1$ \n",
        "\n",
        "2) $\\Leftarrow$ If normal matrix has eigenvalues satisfy $|\\lambda| = 1$  $\\rightarrow$ it is unitary\n",
        "\n",
        "As A - normal: $A = U\\sum U^*$ and $AA^* = U\\sum U^*U\\sum^* U^* = U\\sum \\sum^* U^* = U diag(\\lambda_i^2) U^* = UIU* = I$\n"
      ]
    },
    {
      "cell_type": "markdown",
      "metadata": {
        "id": "8tMMinQ9OGIm"
      },
      "source": [
        "* (5 pts) The following problem illustrates instability of the Jordan form. Find theoretically the eigenvalues of the perturbed Jordan block:\n",
        "\n",
        "$$\n",
        "    J(\\varepsilon) = \n",
        "    \\begin{bmatrix} \n",
        "     \\lambda & 1 & & & 0 \\\\ \n",
        "     & \\lambda & 1 & & \\\\ \n",
        "     &  & \\ddots & \\ddots & \\\\ \n",
        "     & & & \\lambda & 1 \\\\ \n",
        "     \\varepsilon & & & & \\lambda  \\\\ \n",
        "    \\end{bmatrix}_{n\\times n}\n",
        "$$\n",
        "\n",
        "Comment how eigenvalues of $J(0)$ are perturbed for large $n$."
      ]
    },
    {
      "cell_type": "markdown",
      "metadata": {
        "id": "duEs1-XHmETs"
      },
      "source": [
        "Let's consider the charasteristic polynomial $|J(\\epsilon) -  lI| = \\begin{bmatrix} \n",
        "     \\lambda - l & 1 & & & 0 \\\\ \n",
        "     & \\lambda - l & 1 & & \\\\ \n",
        "     &  & \\ddots & \\ddots & \\\\ \n",
        "     & & & \\lambda - l& 1 \\\\ \n",
        "     \\varepsilon & & & & \\lambda - l  \\\\ \n",
        "    \\end{bmatrix}_{n\\times n} = 0 \\rightarrow (-1)^{n+1}\\epsilon + (\\lambda - l)^n \\rightarrow \\lambda - l = ((-1)^n\\epsilon)^{1/n} \\rightarrow l = \\lambda - ((-1)^n\\epsilon)^{1/n} \\rightarrow l_k = \\lambda -  |\\epsilon|^{1/n}e^{i\\phi_k} $\n",
        "    \n",
        "For large n $|\\epsilon|^{1/n} \\rightarrow 0$ and  $e^{i\\phi_k}$ - bounded."
      ]
    },
    {
      "cell_type": "markdown",
      "metadata": {
        "id": "xWcyqKyrOGIp"
      },
      "source": [
        "### 2. PageRank (35 pts)\n",
        "\n",
        "\n",
        "#### Damping factor importance\n",
        "\n",
        "* (5 pts) Write the function ```pagerank_matrix(G)``` that takes an adjacency matrix $G$ (in both sparse and dense formats) as an input and outputs the corresponding PageRank matrix $A$."
      ]
    },
    {
      "cell_type": "code",
      "metadata": {
        "id": "2jktwIc8OGIp"
      },
      "source": [
        "# INPUT:  G - np.ndarray or sparse matrix\n",
        "# OUTPUT: A - np.ndarray (of size G.shape) or sparse matrix\n",
        "from scipy.sparse import csr_matrix, isspmatrix\n",
        "import scipy as sc\n",
        "def pagerank_matrix(G):\n",
        "    if sc.sparse.issparse(G):\n",
        "        A = G.multiply(1/G.sum(axis = 0))\n",
        "    else:\n",
        "        A = G*(1/G.sum(axis = 0))\n",
        "    return A"
      ],
      "execution_count": 62,
      "outputs": []
    },
    {
      "cell_type": "markdown",
      "metadata": {
        "id": "BtVmgGnYOGIs"
      },
      "source": [
        "* (3 pts) Find PageRank matrix $A$ that corresponds to the following graph: <img src=\"graph.png\" width='250'>\n",
        "What is its largest eigenvalue? What multiplicity does it have?\n",
        "\n"
      ]
    },
    {
      "cell_type": "code",
      "metadata": {
        "id": "J6Z9tzN0mETz"
      },
      "source": [
        "G = [[0,0,1,0,0], [1,0,1,0,0],[0,1,0,0,0],[0,0,0,0,1],[0,0,0,1,0]]"
      ],
      "execution_count": 63,
      "outputs": []
    },
    {
      "cell_type": "code",
      "metadata": {
        "id": "S_rJ4HdsmET4"
      },
      "source": [
        "import numpy as np\n",
        "from numpy import linalg as LA"
      ],
      "execution_count": 64,
      "outputs": []
    },
    {
      "cell_type": "code",
      "metadata": {
        "id": "qXyY23dumET-",
        "colab": {
          "base_uri": "https://localhost:8080/"
        },
        "outputId": "f91349a4-172a-42be-e314-3cdd47161c39"
      },
      "source": [
        "G = np.array(G)\n",
        "A = pagerank_matrix(G)\n",
        "print(A)"
      ],
      "execution_count": 66,
      "outputs": [
        {
          "output_type": "stream",
          "text": [
            "[[0.  0.  0.5 0.  0. ]\n",
            " [1.  0.  0.5 0.  0. ]\n",
            " [0.  1.  0.  0.  0. ]\n",
            " [0.  0.  0.  0.  1. ]\n",
            " [0.  0.  0.  1.  0. ]]\n"
          ],
          "name": "stdout"
        }
      ]
    },
    {
      "cell_type": "code",
      "metadata": {
        "id": "3gNngHTHmEUF",
        "colab": {
          "base_uri": "https://localhost:8080/"
        },
        "outputId": "de4bb874-c24f-4c75-e7c4-67aec2722bc9"
      },
      "source": [
        "print('All eigenvalues', LA.eig(A)[0])\n",
        "print('Max eigenvalue ', max(abs(LA.eig(A)[0])), 'with multiplicity - 2')"
      ],
      "execution_count": 67,
      "outputs": [
        {
          "output_type": "stream",
          "text": [
            "All eigenvalues [-0.5+0.5j -0.5-0.5j  1. +0.j   1. +0.j  -1. +0.j ]\n",
            "Max eigenvalue  1.0000000000000004 with multiplicity - 2\n"
          ],
          "name": "stdout"
        }
      ]
    },
    {
      "cell_type": "markdown",
      "metadata": {
        "id": "uIdG2FvW9jbL"
      },
      "source": [
        "\n",
        "* (5 pts) Implement the power method for a given matrix $A$, an initial guess $x_0$ and a number of iterations ```num_iter```. It should be organized as a function ```power_method(A, x0, num_iter)``` that outputs approximation to eigenvector $x$, eigenvalue $\\lambda$ and history of residuals $\\{\\|Ax_k - \\lambda_k x_k\\|_2\\}$. Make sure that the method converges to the correct solution on a matrix $\\begin{bmatrix} 2 & -1 \\\\ -1 & 2 \\end{bmatrix}$ which is known to have the largest eigenvalue equal to $3$."
      ]
    },
    {
      "cell_type": "code",
      "metadata": {
        "id": "uLo7A--rOGIs"
      },
      "source": [
        "# INPUT:  A - np.ndarray (2D), x0 - np.ndarray (1D), num_iter - integer (positive)\n",
        "# OUTPUT: x - np.ndarray (of size x0), l - float, res - np.ndarray (of size num_iter + 1 [include initial guess])\n",
        "\n",
        "def power_method(A, x0, num_iter): # 5 pts\n",
        "    resid = []\n",
        "    x0 = x0/LA.norm(x0)\n",
        "    for i in range (num_iter):\n",
        "        x = A @ x0\n",
        "        x = x/LA.norm(x)\n",
        "        l = (A @ x).dot(x)\n",
        "        res = LA.norm(A @ x - l * x)\n",
        "        resid.append(res)\n",
        "        if res == 0:\n",
        "            break\n",
        "        x0 = x\n",
        "    return x, l, res, resid"
      ],
      "execution_count": null,
      "outputs": []
    },
    {
      "cell_type": "markdown",
      "metadata": {
        "id": "Gnw9rO5nmEUQ"
      },
      "source": [
        "* (2 pts) Run the power method for the graph presented above and plot residuals $\\|Ax_k - \\lambda_k x_k\\|_2$ as a function of $k$ for ```num_iter=100``` and random initial guess ```x0```.  Explain the absence of convergence. "
      ]
    },
    {
      "cell_type": "markdown",
      "metadata": {
        "id": "RwBVN0PLdRBs"
      },
      "source": [
        "$\\textbf{Explain the absence of convergence.}$\n",
        "\n",
        "The convergence ratio of power method is $q^k$ where $q = |\\frac{\\lambda_2}{\\lambda_1}|$ and as we have $\\lambda_2 = -\\lambda_1$ we don't have a convergence."
      ]
    },
    {
      "cell_type": "code",
      "metadata": {
        "id": "bVLzRooJmEUR",
        "colab": {
          "base_uri": "https://localhost:8080/"
        },
        "outputId": "76562f21-9a39-4646-c088-e39e564ac4dd"
      },
      "source": [
        "G = [[0,0,1,0,0], [1,0,1,0,0],[0,1,0,0,0],[0,0,0,0,1],[0,0,0,1,0]]\n",
        "x0 = np.random.rand(A.shape[1])\n",
        "num_iter = 100\n",
        "A = pagerank_matrix(np.array(G))\n",
        "\n",
        "x, l, res, resid = power_method(A, x0, num_iter)"
      ],
      "execution_count": 70,
      "outputs": [
        {
          "output_type": "stream",
          "text": [
            "All eigenvalues [-0.5+0.5j -0.5-0.5j  1. +0.j   1. +0.j  -1. +0.j ]\n"
          ],
          "name": "stdout"
        }
      ]
    },
    {
      "cell_type": "code",
      "metadata": {
        "id": "aOO9ZW9LmEUW",
        "colab": {
          "base_uri": "https://localhost:8080/",
          "height": 355
        },
        "outputId": "162e11da-9539-4958-f53a-2b1aac046b48"
      },
      "source": [
        "import matplotlib.pyplot as plt\n",
        "plt.figure(figsize=(8, 5))\n",
        "plt.plot(resid, color = 'lightgreen')\n",
        "plt.scatter(np.arange(len(resid)),resid, marker = '+', s = 60, color = 'green')\n",
        "plt.xlabel('Num of itteration', fontsize=14)\n",
        "plt.ylabel('Residial',  fontsize=14)\n"
      ],
      "execution_count": null,
      "outputs": [
        {
          "output_type": "execute_result",
          "data": {
            "text/plain": [
              "Text(0, 0.5, 'Residial')"
            ]
          },
          "metadata": {
            "tags": []
          },
          "execution_count": 60
        },
        {
          "output_type": "display_data",
          "data": {
            "image/png": "[encoded data removed]",
            "text/plain": [
              "<Figure size 576x360 with 1 Axes>"
            ]
          },
          "metadata": {
            "tags": [],
            "needs_background": "light"
          }
        }
      ]
    },
    {
      "cell_type": "markdown",
      "metadata": {
        "id": "dFGSudyRmEUc"
      },
      "source": [
        "* (2 pts) Consider the same graph, but with additional self loop at node 4 (self loop is an edge that connects a vertex with itself). Plot residuals as in the previous task and discuss the convergence. Now, run the power method with ```num_iter=100``` for 10 different initial guesses and print/plot the resulting approximated eigenvectors. Why do they depend on the initial guess?\n"
      ]
    },
    {
      "cell_type": "code",
      "metadata": {
        "id": "MSw8-yRhmEUe",
        "colab": {
          "base_uri": "https://localhost:8080/"
        },
        "outputId": "12d4bf47-0312-410c-896a-a1721f013dbc"
      },
      "source": [
        "num_iter = 100\n",
        "G = [[0,0,1,0,0], [1,0,1,0,0],[0,1,0,0,0],[0,0,0,0,1],[0,0,0,1,1]]\n",
        "A = pagerank_matrix(np.array(G))\n",
        "\n",
        "print('All eigenvalues', LA.eig(A)[0])"
      ],
      "execution_count": 71,
      "outputs": [
        {
          "output_type": "stream",
          "text": [
            "All eigenvalues [-0.5+0.5j -0.5-0.5j  1. +0.j  -0.5+0.j   1. +0.j ]\n"
          ],
          "name": "stdout"
        }
      ]
    },
    {
      "cell_type": "code",
      "metadata": {
        "id": "tkpcHZ4YfcR0"
      },
      "source": [
        "x, l, res, resid = power_method(A, x0, num_iter)"
      ],
      "execution_count": null,
      "outputs": []
    },
    {
      "cell_type": "code",
      "metadata": {
        "id": "LXjsy9-amEUi",
        "colab": {
          "base_uri": "https://localhost:8080/",
          "height": 355
        },
        "outputId": "06716222-f9ef-41d8-e465-0f11cc12411e"
      },
      "source": [
        "import matplotlib.pyplot as plt\n",
        "plt.figure(figsize=(8, 5))\n",
        "plt.plot(resid, color = 'green')\n",
        "plt.xlabel('Num of itteration', fontsize=14)\n",
        "plt.ylabel('Residial',  fontsize=14)\n"
      ],
      "execution_count": null,
      "outputs": [
        {
          "output_type": "execute_result",
          "data": {
            "text/plain": [
              "Text(0, 0.5, 'Residial')"
            ]
          },
          "metadata": {
            "tags": []
          },
          "execution_count": 70
        },
        {
          "output_type": "display_data",
          "data": {
            "image/png": "[encoded data removed]",
            "text/plain": [
              "<Figure size 576x360 with 1 Axes>"
            ]
          },
          "metadata": {
            "tags": [],
            "needs_background": "light"
          }
        }
      ]
    },
    {
      "cell_type": "code",
      "metadata": {
        "id": "E6IgveGqmEUm",
        "colab": {
          "base_uri": "https://localhost:8080/"
        },
        "outputId": "59b7133e-25fc-494d-c72d-a41ff8aaf74d"
      },
      "source": [
        "for i in range (10):\n",
        "    x0 = np.random.normal(size=A.shape[1])\n",
        "    x, l, res, resid = power_method(A, x0, num_iter)\n",
        "    print(x)"
      ],
      "execution_count": null,
      "outputs": [
        {
          "output_type": "stream",
          "text": [
            "[ 0.24783396  0.49566792  0.49566792 -0.29906686 -0.59813373]\n",
            "[0.30684353 0.61368705 0.61368705 0.17471317 0.34942634]\n",
            "[-0.30139203 -0.60278407 -0.60278407 -0.19103171 -0.38206343]\n",
            "[ 0.13491059  0.26982119  0.26982119 -0.40894796 -0.81789593]\n",
            "[ 0.23407717  0.46815434  0.46815434 -0.31839312 -0.63678624]\n",
            "[ 0.33096994  0.66193987  0.66193987 -0.05316035 -0.1063207 ]\n",
            "[-0.12821958 -0.25643916 -0.25643916  0.41280447  0.82560894]\n",
            "[-0.20876866 -0.41753731 -0.41753731  0.34863759  0.69727517]\n",
            "[ 0.00790749  0.01581498  0.01581498 -0.44708774 -0.89417548]\n",
            "[ 0.02190676  0.04381351  0.04381351 -0.44624676 -0.89249352]\n"
          ],
          "name": "stdout"
        }
      ]
    },
    {
      "cell_type": "markdown",
      "metadata": {
        "id": "-GcbDMKgAwD7"
      },
      "source": [
        "$\\textbf{Why do they depend on the initial guess?}$ \n",
        "\n",
        "As we have 2 equal largest eigenvalues - we will have eigenvecor that is linear combination of corresponding eigenvectors $\\Rightarrow$ we have dependency on the initial guess.\n",
        "\n"
      ]
    },
    {
      "cell_type": "markdown",
      "metadata": {
        "id": "8r8Qtf-CA0HQ"
      },
      "source": [
        ""
      ]
    },
    {
      "cell_type": "markdown",
      "metadata": {
        "id": "yS-MPz9ymEUs"
      },
      "source": [
        "In order to avoid this problem Larry Page and Sergey Brin [proposed](http://ilpubs.stanford.edu:8090/422/1/1999-66.pdf) to use the following regularization technique:\n",
        "\n",
        "$$\n",
        "A_d = dA + \\frac{1-d}{N} \\begin{pmatrix} 1 & \\dots & 1 \\\\ \\vdots & & \\vdots \\\\ 1 & \\dots & 1 \\end{pmatrix},\n",
        "$$\n",
        "\n",
        "where $d$ is a small parameter in $[0,1]$ (typically $d=0.85$), which is called **damping factor**, $A$ is of size $N\\times N$. Now $A_d$ is the matrix with multiplicity of the largest eigenvalue equal to 1. \n",
        "Recall that computing the eigenvector of the PageRank matrix, which corresponds to the largest eigenvalue, has the following interpretation. Consider a person who stays in a random node of a graph (i.e. opens a random web page); at each step s/he follows one of the outcoming edges uniformly at random (i.e. opens one of the links). So the person randomly walks through the graph and the eigenvector we are looking for is exactly his/her stationary distribution â€” for each node it tells you the probability of visiting this particular node. Therefore, if the person has started from a part of the graph which is not connected with the other part, he will never get there.  In the regularized model, the person at each step follows one of the outcoming links with probability $d$ OR teleports to a random node from the whole graph with probability $(1-d)$.\n",
        "\n",
        "* (2 pts) Now, run the power method with $A_d$ and plot residuals $\\|A_d x_k - \\lambda_k x_k\\|_2$ as a function of $k$ for $d=0.97$, ```num_iter=100``` and a random initial guess ```x0```."
      ]
    },
    {
      "cell_type": "code",
      "metadata": {
        "id": "xXSALutumEUt",
        "colab": {
          "base_uri": "https://localhost:8080/"
        },
        "outputId": "31fea12b-c79a-4f1a-a5e7-7a8fc15c3f11"
      },
      "source": [
        "d = 0.97\n",
        "Ones = np.ones((A.shape[0], A.shape[1]))\n",
        "A_d = d*A + (1-d)/A.shape[0] * Ones\n",
        "for i in range (10):\n",
        "    x0 = np.random.rand(A.shape[1])\n",
        "    x, l, res, resid = power_method(A_d, x0, num_iter)\n",
        "    print(x)"
      ],
      "execution_count": null,
      "outputs": [
        {
          "output_type": "stream",
          "text": [
            "[0.2635166  0.51920812 0.51665246 0.28419052 0.55972128]\n",
            "[0.2639228  0.52002053 0.51746487 0.28351336 0.55836698]\n",
            "[0.26524473 0.5226646  0.520109   0.28129058 0.55392165]\n",
            "[0.25969353 0.51156339 0.50900818 0.29043291 0.57220762]\n",
            "[0.25588705 0.50395425 0.50140029 0.29642394 0.58419391]\n",
            "[0.26044944 0.51307474 0.51051937 0.28921701 0.5697753 ]\n",
            "[0.26129404 0.51476351 0.51220802 0.28784789 0.56703659]\n",
            "[0.2627393  0.51765361 0.51509797 0.28547872 0.56229777]\n",
            "[0.2604195  0.51301486 0.5104595  0.28926536 0.569872  ]\n",
            "[0.25887965 0.50993625 0.50738124 0.2917322  0.57480688]\n"
          ],
          "name": "stdout"
        }
      ]
    },
    {
      "cell_type": "markdown",
      "metadata": {
        "id": "9hAowO6zOGIu"
      },
      "source": [
        "* (2 pts) Run the power method for the graph presented above and plot residuals $\\|Ax_k - \\lambda_k x_k\\|_2$ as a function of $k$ for ```num_iter=100``` and random initial guess ```x0```.  Explain the absence of convergence. \n",
        "\n",
        "\n",
        "* (2 pts) Consider the same graph, but with additional self loop at node 4 (self loop is an edge that connects a vertex with itself). Plot residuals as in the previous task and discuss the convergence. Now, run the power method with ```num_iter=100``` for 10 different initial guesses and print/plot the resulting approximated eigenvectors. Why do they depend on the initial guess?\n",
        "\n",
        "\n",
        "In order to avoid this problem Larry Page and Sergey Brin [proposed](http://ilpubs.stanford.edu:8090/422/1/1999-66.pdf) to use the following regularization technique:\n",
        "\n",
        "$$\n",
        "A_d = dA + \\frac{1-d}{N} \\begin{pmatrix} 1 & \\dots & 1 \\\\ \\vdots & & \\vdots \\\\ 1 & \\dots & 1 \\end{pmatrix},\n",
        "$$\n",
        "\n",
        "where $d$ is a small parameter in $[0,1]$ (typically $d=0.85$), which is called **damping factor**, $A$ is of size $N\\times N$. Now $A_d$ is the matrix with multiplicity of the largest eigenvalue equal to 1. \n",
        "Recall that computing the eigenvector of the PageRank matrix, which corresponds to the largest eigenvalue, has the following interpretation. Consider a person who stays in a random node of a graph (i.e. opens a random web page); at each step s/he follows one of the outcoming edges uniformly at random (i.e. opens one of the links). So the person randomly walks through the graph and the eigenvector we are looking for is exactly his/her stationary distribution â€” for each node it tells you the probability of visiting this particular node. Therefore, if the person has started from a part of the graph which is not connected with the other part, he will never get there.  In the regularized model, the person at each step follows one of the outcoming links with probability $d$ OR teleports to a random node from the whole graph with probability $(1-d)$.\n",
        "\n",
        "* (2 pts) Now, run the power method with $A_d$ and plot residuals $\\|A_d x_k - \\lambda_k x_k\\|_2$ as a function of $k$ for $d=0.97$, ```num_iter=100``` and a random initial guess ```x0```.\n",
        "\n",
        "* (5 pts) Find the second largest in the absolute value eigenvalue of the obtained matrix $A_d$. How and why is it connected to the damping factor $d$? What is the convergence rate of the PageRank algorithm when using damping factor?\n",
        "\n",
        "Usually, graphs that arise in various areas are sparse (social, web, road networks, etc.) and, thus, computation of a matrix-vector product for corresponding PageRank matrix $A$ is much cheaper than $\\mathcal{O}(N^2)$. However, if $A_d$ is calculated directly, it becomes dense and, therefore, $\\mathcal{O}(N^2)$ cost grows prohibitively large for  big $N$.\n",
        "\n",
        "\n"
      ]
    },
    {
      "cell_type": "code",
      "metadata": {
        "id": "IkYvt2VbmEU3",
        "colab": {
          "base_uri": "https://localhost:8080/"
        },
        "outputId": "d407a2d6-5a6a-4a0b-d213-84d4c762248b"
      },
      "source": [
        "print(sorted(np.linalg.eigvals(A_d), reverse=True))"
      ],
      "execution_count": null,
      "outputs": [
        {
          "output_type": "stream",
          "text": [
            "[(0.9999999999999999+0j), (0.9700000000000001+0j), (-0.485+0j), (-0.48500000000000015+0.48500000000000015j), (-0.48500000000000015-0.48500000000000015j)]\n"
          ],
          "name": "stdout"
        }
      ]
    },
    {
      "cell_type": "code",
      "metadata": {
        "id": "pCwDe1u1mEU9",
        "colab": {
          "base_uri": "https://localhost:8080/"
        },
        "outputId": "a0aa7511-f9e2-4e00-c260-d795c7b8002d"
      },
      "source": [
        "print(sorted(abs(np.linalg.eigvals(A_d)))[-2])"
      ],
      "execution_count": null,
      "outputs": [
        {
          "output_type": "stream",
          "text": [
            "0.9700000000000001\n"
          ],
          "name": "stdout"
        }
      ]
    },
    {
      "cell_type": "markdown",
      "metadata": {
        "id": "x9OnWkDymEVD"
      },
      "source": [
        "For different d "
      ]
    },
    {
      "cell_type": "code",
      "metadata": {
        "id": "RKq8jxbymEVE",
        "colab": {
          "base_uri": "https://localhost:8080/"
        },
        "outputId": "58d2588c-b83a-4828-c27d-9cbfc9e43a4b"
      },
      "source": [
        "d = np.array([0.4, 0.6,0.8,0.9,0.97])\n",
        "Ones = np.ones((A.shape[0], A.shape[1]))\n",
        "for i in range (len(d)):\n",
        "    A_d = d[i]*A + (1-d[i])/A.shape[0] * Ones\n",
        "    print('d: ', d[i], 'Second eigenvalue ', sorted(abs(np.linalg.eigvals(A_d)))[-2])\n",
        "    print('d: ', d[i], 'Firs eigenvalue ', sorted(abs(np.linalg.eigvals(A_d)))[-1])\n",
        "    "
      ],
      "execution_count": 80,
      "outputs": [
        {
          "output_type": "stream",
          "text": [
            "d:  0.4 Second eigenvalue  0.4000000000000003\n",
            "d:  0.4 Firs eigenvalue  0.9999999999999993\n",
            "d:  0.6 Second eigenvalue  0.6000000000000002\n",
            "d:  0.6 Firs eigenvalue  1.0000000000000009\n",
            "d:  0.8 Second eigenvalue  0.8000000000000003\n",
            "d:  0.8 Firs eigenvalue  1.0000000000000007\n",
            "d:  0.9 Second eigenvalue  0.8999999999999996\n",
            "d:  0.9 Firs eigenvalue  0.9999999999999986\n",
            "d:  0.97 Second eigenvalue  0.9700000000000001\n",
            "d:  0.97 Firs eigenvalue  0.9999999999999999\n"
          ],
          "name": "stdout"
        }
      ]
    },
    {
      "cell_type": "markdown",
      "metadata": {
        "id": "uxITkLZJBVDf"
      },
      "source": [
        "$\\textbf{How and why is it connected to the damping factor  d ?}$ \n",
        "\n",
        "$\\textbf{What is the convergence rate of the PageRank algorithm when using damping factor?}$\n",
        "\n",
        "As we got second large eigenvalue = d and the first large is 1 $\\Rightarrow q = |\\frac{\\lambda_2}{\\lambda_1}| = d$ - ratio of convergence."
      ]
    },
    {
      "cell_type": "markdown",
      "metadata": {
        "id": "9wQBbR8smEVK"
      },
      "source": [
        "* (2 pts) Implement fast matrix-vector product for $A_d$ as a function ```pagerank_matvec(A, d, x)```, which takes a PageRank matrix $A$ (in sparse format, e.g., ```csr_matrix```), damping factor $d$ and a vector $x$ as an input and returns $A_dx$ as an output. \n",
        "\n",
        "* (1 pts) Generate a random adjacency matrix of size $10000 \\times 10000$ with only 100 non-zero elements and compare ```pagerank_matvec``` performance with direct evaluation of $A_dx$."
      ]
    },
    {
      "cell_type": "code",
      "metadata": {
        "id": "4o3LKx5UOGIv"
      },
      "source": [
        "# INPUT:  A - np.ndarray (2D), d - float (from 0.0 to 1.0), x - np.ndarray (1D, size of A.shape[0/1])\n",
        "# OUTPUT: y - np.ndarray (1D, size of x)\n",
        "from scipy.sparse import csr_matrix\n",
        "def pagerank_matvec(A, d, x): # 2 pts\n",
        "    v = x.sum()\n",
        "    A_d = (d*A.dot(x) + (1-d)/A.shape[0] * v)\n",
        "    return A_d"
      ],
      "execution_count": null,
      "outputs": []
    },
    {
      "cell_type": "code",
      "metadata": {
        "id": "slmoxHbamEVP",
        "colab": {
          "base_uri": "https://localhost:8080/"
        },
        "outputId": "72e6b3a5-c79e-41ab-b964-4114ffe657d5"
      },
      "source": [
        "n = 10000\n",
        "G = sc.sparse.random(n, n, , format = 'csr')\n",
        "A =  pagerank_matrix(G)\n",
        "x = np.random.rand(10000)"
      ],
      "execution_count": null,
      "outputs": [
        {
          "output_type": "stream",
          "text": [
            "/usr/local/lib/python3.6/dist-packages/ipykernel_launcher.py:7: RuntimeWarning: divide by zero encountered in true_divide\n",
            "  import sys\n"
          ],
          "name": "stderr"
        }
      ]
    },
    {
      "cell_type": "code",
      "metadata": {
        "colab": {
          "base_uri": "https://localhost:8080/"
        },
        "id": "gzh-7ugvFo0w",
        "outputId": "2671b3f1-4359-4c2d-e954-d3b90281674a"
      },
      "source": [
        "A.shape[0]"
      ],
      "execution_count": null,
      "outputs": [
        {
          "output_type": "execute_result",
          "data": {
            "text/plain": [
              "10000"
            ]
          },
          "metadata": {
            "tags": []
          },
          "execution_count": 80
        }
      ]
    },
    {
      "cell_type": "code",
      "metadata": {
        "id": "ULIGndeemEVZ"
      },
      "source": [
        "Ones = np.ones((10000,10000))"
      ],
      "execution_count": null,
      "outputs": []
    },
    {
      "cell_type": "code",
      "metadata": {
        "id": "mEgneQkKmEVh",
        "colab": {
          "base_uri": "https://localhost:8080/"
        },
        "outputId": "a065b6ef-95b5-4a4c-d174-f099c8306a6e"
      },
      "source": [
        "%timeit (d*A + (1-d)/A.shape[0] * Ones).dot(x)"
      ],
      "execution_count": null,
      "outputs": [
        {
          "output_type": "stream",
          "text": [
            "1 loop, best of 3: 375 ms per loop\n"
          ],
          "name": "stdout"
        }
      ]
    },
    {
      "cell_type": "code",
      "metadata": {
        "id": "BvtOBf6TmEVl",
        "colab": {
          "base_uri": "https://localhost:8080/"
        },
        "outputId": "dcee6ff2-4659-4158-aada-33af9ff9a564"
      },
      "source": [
        "d = 0.97\n",
        "%timeit pagerank_matvec(A, d, x)"
      ],
      "execution_count": null,
      "outputs": [
        {
          "output_type": "stream",
          "text": [
            "The slowest run took 27.39 times longer than the fastest. This could mean that an intermediate result is being cached.\n",
            "10000 loops, best of 3: 23.1 µs per loop\n"
          ],
          "name": "stdout"
        }
      ]
    },
    {
      "cell_type": "markdown",
      "metadata": {
        "id": "ru70NGUlOGIy"
      },
      "source": [
        "#### DBLP: computer science bibliography\n",
        "\n",
        "Download the dataset from [here](https://goo.gl/oZVxEa), unzip it and put `dblp_authors.npz`  and `dblp_graph.npz` in the same folder with this notebook. Each value (author name) from `dblp_authors.npz` corresponds to the row/column of the matrix from `dblp_graph.npz`. Value at row `i` and column `j` of the matrix from `dblp_graph.npz` corresponds to the number of times author `i` cited papers of the author `j`. Let us now find the most significant scientists according to PageRank model over DBLP data.\n",
        "\n",
        "* (4 pts) Load the weighted adjacency matrix and the authors list into Python using ```load_dblp(...)``` function. Print its density (fraction of nonzero elements). Find top-10 most cited authors from the weighted adjacency matrix. Now, make all the weights of the adjacency matrix equal to 1 for simplicity (consider only existence of connection between authors, not its weight). Obtain the PageRank matrix $A$ from the adjacency matrix and verify that it is stochastic.\n",
        " \n",
        " \n",
        "* (1 pts) In order to provide ```pagerank_matvec``` to your ```power_method``` (without rewriting it) for fast calculation of $A_dx$, you can create a ```LinearOperator```: \n",
        "```python\n",
        "L = scipy.sparse.linalg.LinearOperator(A.shape, matvec=lambda x, A=A, d=d: pagerank_matvec(A, d, x))\n",
        "```\n",
        "Calling ```L@x``` or ```L.dot(x)``` will result in calculation of ```pagerank_matvec(A, d, x)``` and, thus, you can plug $L$ instead of the matrix $A$ in the ```power_method``` directly. **Note:** though in the previous subtask graph was very small (so you could disparage fast matvec implementation), here it is very large (but sparse), so that direct evaluation of $A_dx$ will require $\\sim 10^{12}$ matrix elements to store - good luck with that (^_<).\n",
        "\n",
        "\n",
        "* (2 pts) Run the power method starting from the vector of all ones and plot residuals $\\|A_dx_k - \\lambda_k x_k\\|_2$  as a function of $k$ for $d=0.85$.\n",
        "\n",
        "\n",
        "* (1 pts) Print names of the top-10 authors according to PageRank over DBLP when $d=0.85$. Comment on your findings."
      ]
    },
    {
      "cell_type": "code",
      "metadata": {
        "id": "_9H7DbijmUO9",
        "colab": {
          "base_uri": "https://localhost:8080/"
        },
        "outputId": "273dd040-9505-4081-a413-38791d137436"
      },
      "source": [
        "from google.colab import drive\n",
        "drive.mount('/content/drive')"
      ],
      "execution_count": null,
      "outputs": [
        {
          "output_type": "stream",
          "text": [
            "Mounted at /content/drive\n"
          ],
          "name": "stdout"
        }
      ]
    },
    {
      "cell_type": "code",
      "metadata": {
        "id": "KEDgoQrLmfjN",
        "colab": {
          "base_uri": "https://localhost:8080/"
        },
        "outputId": "2fb24691-071c-428c-d797-8951b4dfd35c"
      },
      "source": [
        "cd drive/My Drive"
      ],
      "execution_count": null,
      "outputs": [
        {
          "output_type": "stream",
          "text": [
            "/content/drive/My Drive\n"
          ],
          "name": "stdout"
        }
      ]
    },
    {
      "cell_type": "code",
      "metadata": {
        "id": "PHwCmMEim_T0"
      },
      "source": [
        "from zipfile import ZipFile\n",
        "zf = ZipFile('dblp.zip', 'r')\n",
        "zf.extractall('dblp')\n",
        "zf.close()"
      ],
      "execution_count": null,
      "outputs": []
    },
    {
      "cell_type": "code",
      "metadata": {
        "id": "lCw5hTK1nmSA",
        "colab": {
          "base_uri": "https://localhost:8080/"
        },
        "outputId": "15b2deed-8dd2-4bad-c51f-d68445eee227"
      },
      "source": [
        "cd dblp/"
      ],
      "execution_count": null,
      "outputs": [
        {
          "output_type": "stream",
          "text": [
            "/content/drive/My Drive/dblp\n"
          ],
          "name": "stdout"
        }
      ]
    },
    {
      "cell_type": "code",
      "metadata": {
        "id": "L5ZnW7m-OGIz"
      },
      "source": [
        "from scipy.sparse import load_npz\n",
        "import numpy as np\n",
        "def load_dblp(path_auth, path_graph):\n",
        "    G = load_npz(path_graph).astype(float)\n",
        "    with np.load(path_auth) as data: authors = data['authors']\n",
        "    return G, authors\n",
        "G, authors = load_dblp('dblp_authors.npz', 'dblp_graph.npz')"
      ],
      "execution_count": null,
      "outputs": []
    },
    {
      "cell_type": "code",
      "metadata": {
        "id": "sIqYqe-fmEVu",
        "colab": {
          "base_uri": "https://localhost:8080/"
        },
        "outputId": "6d15c75e-a146-4573-edd8-56f1ed511726"
      },
      "source": [
        "print('density:', (G.count_nonzero() /(G.shape[0]*G.shape[1])))"
      ],
      "execution_count": null,
      "outputs": [
        {
          "output_type": "stream",
          "text": [
            "density: 4.4986518152305776e-05\n"
          ],
          "name": "stdout"
        }
      ]
    },
    {
      "cell_type": "code",
      "metadata": {
        "id": "-V6OvPP7mEVy"
      },
      "source": [
        "from scipy.sparse import csr_matrix, find\n",
        "Find = find(G)\n",
        "G_sort = np.sort(Find[2])"
      ],
      "execution_count": null,
      "outputs": []
    },
    {
      "cell_type": "code",
      "metadata": {
        "id": "U-2zvDqZqijH",
        "colab": {
          "base_uri": "https://localhost:8080/"
        },
        "outputId": "8fa91744-952a-4051-eb1f-85b472fc8996"
      },
      "source": [
        "weights = G.sum(axis = 0)\n",
        "for i in range (1,11):\n",
        "  print(authors[np.array(weights.argsort())[0][-i]])"
      ],
      "execution_count": null,
      "outputs": [
        {
          "output_type": "stream",
          "text": [
            "Scott Shenker\n",
            "Andrew Zisserman\n",
            "Hari Balakrishnan\n",
            "Jiawei Han\n",
            "Anil K. Jain\n",
            "Cordelia Schmid\n",
            "Jitendra Malik\n",
            "Ion Stoica\n",
            "David E. Culler\n",
            "David G. Lowe\n"
          ],
          "name": "stdout"
        }
      ]
    },
    {
      "cell_type": "markdown",
      "metadata": {
        "id": "pGh2O4R_vXsw"
      },
      "source": [
        "Now, make all the weights of the adjacency matrix equal to 1 for simplicity (consider only existence of connection between authors, not its weight). \n",
        "##Obtain the PageRank matrix $A$ from the adjacency matrix and verify that it is stochastic."
      ]
    },
    {
      "cell_type": "code",
      "metadata": {
        "id": "05GlQbfAyyJr"
      },
      "source": [
        "G.data = np.ones(G.data.shape[0])"
      ],
      "execution_count": null,
      "outputs": []
    },
    {
      "cell_type": "code",
      "metadata": {
        "id": "bMCmaEsh6kXx",
        "colab": {
          "base_uri": "https://localhost:8080/"
        },
        "outputId": "94432218-50aa-4df3-83f5-e7d271439335"
      },
      "source": [
        "A = pagerank_matrix(G)"
      ],
      "execution_count": null,
      "outputs": [
        {
          "output_type": "stream",
          "text": [
            "/usr/local/lib/python3.6/dist-packages/ipykernel_launcher.py:7: RuntimeWarning: divide by zero encountered in true_divide\n",
            "  import sys\n"
          ],
          "name": "stderr"
        }
      ]
    },
    {
      "cell_type": "code",
      "metadata": {
        "id": "Yh1bxEHVtzNx"
      },
      "source": [
        "from scipy.sparse.linalg import LinearOperator\n",
        "d = 0.85\n",
        "L = LinearOperator(A.shape, matvec=lambda x, A=A, d=d: pagerank_matvec(A, d, x))"
      ],
      "execution_count": null,
      "outputs": []
    },
    {
      "cell_type": "code",
      "metadata": {
        "id": "lZ9ozcTL67Hn"
      },
      "source": [
        "x0 = np.ones(A.shape[0])"
      ],
      "execution_count": null,
      "outputs": []
    },
    {
      "cell_type": "code",
      "metadata": {
        "id": "ssQRv_GFKEcO"
      },
      "source": [
        "import numpy as np\n",
        "from numpy import linalg as LA"
      ],
      "execution_count": null,
      "outputs": []
    },
    {
      "cell_type": "code",
      "metadata": {
        "id": "9h6KHarCdobE"
      },
      "source": [
        "num_iter = 100\n",
        "x, l, res, resid = power_method(L, x0, num_iter)"
      ],
      "execution_count": null,
      "outputs": []
    },
    {
      "cell_type": "code",
      "metadata": {
        "id": "Vct3d-18JLmH"
      },
      "source": [
        "num_iter = 300\n",
        "x, l, res, resid = power_method(L, x0, num_iter)"
      ],
      "execution_count": null,
      "outputs": []
    },
    {
      "cell_type": "code",
      "metadata": {
        "colab": {
          "base_uri": "https://localhost:8080/",
          "height": 355
        },
        "id": "rFuQuMJ0SMqz",
        "outputId": "9daef107-c6c1-4efb-e663-43e3071d3a80"
      },
      "source": [
        "import matplotlib.pyplot as plt\n",
        "plt.figure(figsize=(8, 5))\n",
        "plt.plot(resid, color = 'lightgreen')\n",
        "plt.scatter(np.arange(len(resid)),resid, marker = '+', s = 20, color = 'red')\n",
        "plt.xlabel('Num of itteration', fontsize=14)\n",
        "plt.ylabel('Residial',  fontsize=14)"
      ],
      "execution_count": null,
      "outputs": [
        {
          "output_type": "execute_result",
          "data": {
            "text/plain": [
              "Text(0, 0.5, 'Residial')"
            ]
          },
          "metadata": {
            "tags": []
          },
          "execution_count": 31
        },
        {
          "output_type": "display_data",
          "data": {
            "image/png": "[encoded data removed]",
            "text/plain": [
              "<Figure size 576x360 with 1 Axes>"
            ]
          },
          "metadata": {
            "tags": [],
            "needs_background": "light"
          }
        }
      ]
    },
    {
      "cell_type": "code",
      "metadata": {
        "colab": {
          "base_uri": "https://localhost:8080/"
        },
        "id": "vvuIiGtZSmmS",
        "outputId": "ccaf6fb2-79e6-476e-f271-abc50a128707"
      },
      "source": [
        "best = sorted(range(len(x)), reverse=True, key=lambda k: x[k])[:10]\n",
        "for i in best:\n",
        "    print(authors[i])"
      ],
      "execution_count": null,
      "outputs": [
        {
          "output_type": "stream",
          "text": [
            "Wei Wang\n",
            "Yang Liu\n",
            "Wei Zhang\n",
            "Wei Li\n",
            "Lei Wang\n",
            "Athanasios V. Vasilakos\n",
            "Lei Zhang\n",
            "Jun Zhang\n",
            "Jun Wang\n",
            "Li Li\n"
          ],
          "name": "stdout"
        }
      ]
    },
    {
      "cell_type": "code",
      "metadata": {
        "colab": {
          "base_uri": "https://localhost:8080/"
        },
        "id": "adAPS3BDUJC8",
        "outputId": "1b8cf592-8539-4efc-8ff9-290d2a140103"
      },
      "source": [
        "pagerank_matvec(A, d, x)"
      ],
      "execution_count": null,
      "outputs": [
        {
          "output_type": "execute_result",
          "data": {
            "text/plain": [
              "array([3.68394488e-05, 6.55298261e-05, 4.95377453e-04, ...,\n",
              "       3.87770790e-05, 3.68394488e-05, 3.68394488e-05])"
            ]
          },
          "metadata": {
            "tags": []
          },
          "execution_count": 34
        }
      ]
    },
    {
      "cell_type": "markdown",
      "metadata": {
        "id": "hQ2vaIyMOGI3"
      },
      "source": [
        "### 3. QR algorithm (10 pts)\n",
        "\n",
        "* Implement QR-algorithm without shifting. Prototype of the function is given below"
      ]
    },
    {
      "cell_type": "code",
      "metadata": {
        "id": "rMHBZLojOGI3"
      },
      "source": [
        "# INPUT: \n",
        "# A_init - square matrix, \n",
        "# num_iter - number of iterations for QR algorithm\n",
        "# OUTPUT: \n",
        "# Ak - transformed matrix A_init given by QR algorithm, \n",
        "# convergence - numpy array of shape (num_iter, ), \n",
        "# where we store the maximal number from the Chebyshev norm \n",
        "# of triangular part of the Ak for every iteration\n",
        "def qr_algorithm(A_init, num_iter): # 3 pts\n",
        "    convergence = []\n",
        "    for i in range (num_iter):\n",
        "      Q,R = jax.scipy.linalg.qr(A_init)\n",
        "      A_k = R.dot(Q)\n",
        "      A_init = A_k\n",
        "      convergence.append(max(map(max, abs(np.tril(A_k,-1)))))\n",
        "\n",
        "    \n",
        "    return A_k, np.array(convergence)"
      ],
      "execution_count": null,
      "outputs": []
    },
    {
      "cell_type": "code",
      "metadata": {
        "id": "PW95gcjJtuNh"
      },
      "source": [
        ""
      ],
      "execution_count": null,
      "outputs": []
    },
    {
      "cell_type": "markdown",
      "metadata": {
        "id": "UNrCBNRUOGI6"
      },
      "source": [
        "#### Symmetric case (3 pts)\n",
        "- Create symmetric tridiagonal $11 \\times 11$ matrix with elements $-1, 2, -1$ on sub-, main- and upper diagonal respectively without using loops.\n",
        "- Run $400$ iterations of the QR algorithm for this matrix.\n",
        "- Plot the output matrix with function ```plt.spy(Ak, precision=1e-7)```.\n",
        "- Plot convergence of QR-algorithm."
      ]
    },
    {
      "cell_type": "code",
      "metadata": {
        "id": "p1N0c1GkAgTE"
      },
      "source": [
        "import numpy as np\n",
        "n = 11\n",
        "m = 11\n",
        "A = np.eye(m, n, k=-1) * (-1) + np.eye(m, n) * 2 + np.eye(m, n, k=1) * (-1)"
      ],
      "execution_count": null,
      "outputs": []
    },
    {
      "cell_type": "code",
      "metadata": {
        "colab": {
          "base_uri": "https://localhost:8080/"
        },
        "id": "o7LagTCEAqhE",
        "outputId": "e6d9dd82-62df-4712-b193-9aff5d4a8f86"
      },
      "source": [
        "A"
      ],
      "execution_count": null,
      "outputs": [
        {
          "output_type": "execute_result",
          "data": {
            "text/plain": [
              "array([[ 2., -1.,  0.,  0.,  0.,  0.,  0.,  0.,  0.,  0.,  0.],\n",
              "       [-1.,  2., -1.,  0.,  0.,  0.,  0.,  0.,  0.,  0.,  0.],\n",
              "       [ 0., -1.,  2., -1.,  0.,  0.,  0.,  0.,  0.,  0.,  0.],\n",
              "       [ 0.,  0., -1.,  2., -1.,  0.,  0.,  0.,  0.,  0.,  0.],\n",
              "       [ 0.,  0.,  0., -1.,  2., -1.,  0.,  0.,  0.,  0.,  0.],\n",
              "       [ 0.,  0.,  0.,  0., -1.,  2., -1.,  0.,  0.,  0.,  0.],\n",
              "       [ 0.,  0.,  0.,  0.,  0., -1.,  2., -1.,  0.,  0.,  0.],\n",
              "       [ 0.,  0.,  0.,  0.,  0.,  0., -1.,  2., -1.,  0.,  0.],\n",
              "       [ 0.,  0.,  0.,  0.,  0.,  0.,  0., -1.,  2., -1.,  0.],\n",
              "       [ 0.,  0.,  0.,  0.,  0.,  0.,  0.,  0., -1.,  2., -1.],\n",
              "       [ 0.,  0.,  0.,  0.,  0.,  0.,  0.,  0.,  0., -1.,  2.]])"
            ]
          },
          "metadata": {
            "tags": []
          },
          "execution_count": 3
        }
      ]
    },
    {
      "cell_type": "code",
      "metadata": {
        "colab": {
          "base_uri": "https://localhost:8080/",
          "height": 286
        },
        "id": "m1UqTRcQ24As",
        "outputId": "91402fe3-bfc2-4fcc-946c-0bfa1c949cba"
      },
      "source": [
        "import matplotlib.pyplot as plt\n",
        "\n",
        "plt.spy(A, precision=1e-7)"
      ],
      "execution_count": null,
      "outputs": [
        {
          "output_type": "execute_result",
          "data": {
            "text/plain": [
              "<matplotlib.image.AxesImage at 0x7f752a22f0b8>"
            ]
          },
          "metadata": {
            "tags": []
          },
          "execution_count": 8
        },
        {
          "output_type": "display_data",
          "data": {
            "image/png": "[encoded data removed]",
            "text/plain": [
              "<Figure size 432x288 with 1 Axes>"
            ]
          },
          "metadata": {
            "tags": [],
            "needs_background": "light"
          }
        }
      ]
    },
    {
      "cell_type": "code",
      "metadata": {
        "colab": {
          "base_uri": "https://localhost:8080/",
          "height": 286
        },
        "id": "6kMlPYS92spi",
        "outputId": "cb4b7b53-a42b-4c0a-d82a-0e4f4b36b12f"
      },
      "source": [
        "A_k, conv = qr_algorithm(A, 400)\n",
        "plt.spy(A_k, precision=1e-7)"
      ],
      "execution_count": null,
      "outputs": [
        {
          "output_type": "execute_result",
          "data": {
            "text/plain": [
              "<matplotlib.image.AxesImage at 0x7fa165e0c898>"
            ]
          },
          "metadata": {
            "tags": []
          },
          "execution_count": 20
        },
        {
          "output_type": "display_data",
          "data": {
            "image/png": "[encoded data removed]",
            "text/plain": [
              "<Figure size 432x288 with 1 Axes>"
            ]
          },
          "metadata": {
            "tags": [],
            "needs_background": "light"
          }
        }
      ]
    },
    {
      "cell_type": "code",
      "metadata": {
        "colab": {
          "base_uri": "https://localhost:8080/",
          "height": 312
        },
        "id": "dSkCNhXLB04j",
        "outputId": "baa712cf-c947-4276-ad8b-61702cb44f28"
      },
      "source": [
        "plt.plot(np.arange(400),conv)\n",
        "plt.scatter(np.arange(400),conv, marker = 'o',s = 5, color = 'red')\n",
        "plt.xlabel('num of iter')\n",
        "plt.ylabel('convergance')\n",
        "plt.title('convergence for a symetric matrix')"
      ],
      "execution_count": null,
      "outputs": [
        {
          "output_type": "execute_result",
          "data": {
            "text/plain": [
              "Text(0.5, 1.0, 'convergence for a symetric matrix')"
            ]
          },
          "metadata": {
            "tags": []
          },
          "execution_count": 25
        },
        {
          "output_type": "display_data",
          "data": {
            "image/png": "[encoded data removed]",
            "text/plain": [
              "<Figure size 432x288 with 1 Axes>"
            ]
          },
          "metadata": {
            "tags": [],
            "needs_background": "light"
          }
        }
      ]
    },
    {
      "cell_type": "markdown",
      "metadata": {
        "id": "-lomV2K-OGI8"
      },
      "source": [
        "#### Nonsymmetric case (4 pts)\n",
        "\n",
        "- Create nonsymmetric tridiagonal $11 \\times 11$ matrix with elements $5, 3, -2$ on sub-, main- and upper diagonal respectively without using loops.\n",
        "- Run $250$ iterations of the QR algorithm for this matrix.\n",
        "- Plot the result matrix with function ```plt.spy(Ak, precision=1e-7)```. Is this matrix lower triangular? How does this correspond to the claim about convergence of the QR algorithm?"
      ]
    },
    {
      "cell_type": "code",
      "metadata": {
        "id": "VXtoT5vu5TdJ"
      },
      "source": [
        "from scipy.sparse import diags\n",
        "m = np.array([5,3,-2])\n",
        "diag = np.array([[m[0] for i in range (10)], [m[1] for i in range (11)],[m[2] for i in range (10)]])\n",
        "A = diags(diag, [-1, 0, 1]).toarray()    \n"
      ],
      "execution_count": null,
      "outputs": []
    },
    {
      "cell_type": "code",
      "metadata": {
        "colab": {
          "base_uri": "https://localhost:8080/",
          "height": 286
        },
        "id": "y8lKSUT5-M0x",
        "outputId": "3352961a-4ebd-40df-8340-2be284e080d3"
      },
      "source": [
        "plt.spy(A, precision=1e-7)"
      ],
      "execution_count": null,
      "outputs": [
        {
          "output_type": "execute_result",
          "data": {
            "text/plain": [
              "<matplotlib.image.AxesImage at 0x7fa165b56cc0>"
            ]
          },
          "metadata": {
            "tags": []
          },
          "execution_count": 28
        },
        {
          "output_type": "display_data",
          "data": {
            "image/png": "[encoded data removed]",
            "text/plain": [
              "<Figure size 432x288 with 1 Axes>"
            ]
          },
          "metadata": {
            "tags": [],
            "needs_background": "light"
          }
        }
      ]
    },
    {
      "cell_type": "code",
      "metadata": {
        "colab": {
          "base_uri": "https://localhost:8080/",
          "height": 286
        },
        "id": "whx6BWbl5XQf",
        "outputId": "8848382c-b16f-4e07-ed52-5e8fceb30ae1"
      },
      "source": [
        "A_k_nonsym, con_nonsym = qr_algorithm(A, 250)\n",
        "plt.spy(A_k_nonsym, precision=1e-7)"
      ],
      "execution_count": null,
      "outputs": [
        {
          "output_type": "execute_result",
          "data": {
            "text/plain": [
              "<matplotlib.image.AxesImage at 0x7f752a065780>"
            ]
          },
          "metadata": {
            "tags": []
          },
          "execution_count": 14
        },
        {
          "output_type": "display_data",
          "data": {
            "image/png": "[encoded data removed]",
            "text/plain": [
              "<Figure size 432x288 with 1 Axes>"
            ]
          },
          "metadata": {
            "tags": [],
            "needs_background": "light"
          }
        }
      ]
    },
    {
      "cell_type": "code",
      "metadata": {
        "colab": {
          "base_uri": "https://localhost:8080/",
          "height": 312
        },
        "id": "LDZeeao9C_3X",
        "outputId": "b1e8ea11-0b34-4d57-bcc8-8e1ece1f32ec"
      },
      "source": [
        "plt.plot(np.arange(250), con_nonsym)\n",
        "plt.scatter(np.arange(250), con_nonsym, marker = 'o',s = 5, color = 'red')\n",
        "plt.xlabel('num of iter')\n",
        "plt.ylabel('convergance')\n",
        "plt.title('convergence for a nonsymetric matrix')"
      ],
      "execution_count": null,
      "outputs": [
        {
          "output_type": "execute_result",
          "data": {
            "text/plain": [
              "Text(0.5, 1.0, 'convergence for a nonsymetric matrix')"
            ]
          },
          "metadata": {
            "tags": []
          },
          "execution_count": 16
        },
        {
          "output_type": "display_data",
          "data": {
            "image/png": "[encoded data removed]",
            "text/plain": [
              "<Figure size 432x288 with 1 Axes>"
            ]
          },
          "metadata": {
            "tags": [],
            "needs_background": "light"
          }
        }
      ]
    },
    {
      "cell_type": "markdown",
      "metadata": {
        "id": "lolfasTJDwmg"
      },
      "source": [
        "For non-symmetric case we have convergence not to upper-triangular matrix, but to block upper-triangular matrix."
      ]
    },
    {
      "cell_type": "markdown",
      "metadata": {
        "id": "c_8OYe7wOGI-"
      },
      "source": [
        "## Problem 3. (Pseudo-Schur decomposition) 15 pts\n",
        "Let's redefine scalar product $ \\forall x, y \\in \\mathbb{C}^n$ in a following way:\n",
        "\n",
        "$$ [x,y]_J = y^{*}Jx, \\text{s.t.}\\ J = \\text{diag}(j_{11}, j_{22}, \\dots, j_{nn})\\ \\text{and}\\ j_{ii} = \\pm1\\ \\forall i \\in [1,n].$$\n",
        "\n",
        "Denote rows of matrix $V \\in \\mathbb{C}^{n \\times n}$ as $v_1, v_2, \\dots, v_n$. Then $V$ is called $\\textbf{J-orthonormal}$ iff \n",
        "\n",
        "$$[v_i, v_k]_J = \\pm \\delta_{ik}.$$\n",
        "\n",
        "We will call matrix $T \\in \\mathbb{C}^{n \\times n}$ $\\textbf{almost triangular}$ iff $T$ is upper triangular with diagonal blocks of order $1$ or $2$.\n",
        "\n",
        "Matrix $A \\in \\mathbb{C}^{n \\times n}$ is said to be $\\textbf{J-decomposable}$ if exist J-orthonormal matrix $V$ and upper triangular matrix $T$ such that \n",
        "\n",
        "\n",
        "$$A = V T V^{-1}.$$\n",
        "\n",
        "Matrix $A \\in \\mathbb{C}^{n \\times n}$ is said to have $\\textbf{pseudoschur J-decomposition}$ if exist J-orthonormal matrix $V$ and almost triangular matrix $T$ such that\n",
        "\n",
        "\n",
        "$$A = V T V^{-1}.$$\n",
        "\n",
        "This problem is to get familiar with the fact that two abovementioned decompositions exist not for any square matrix with complex entries.\n",
        "\n",
        "\n",
        "\n",
        "\n",
        "- (2 pts) $A$ has pseudoschur J-decomposition $A = V T V^{-1}, \\ \\text{where}\\ V = \\begin{bmatrix} v_1 & v_2 &  \\ldots & v_n \\end{bmatrix}, \\ T = \\begin{bmatrix} T_{ij} \\end{bmatrix}$ and $v_1$ is $\\textbf{not}$ an eigenvector of $A$. Show that $T_{21} \\ne 0$. \n",
        "\n",
        "\n",
        "\n",
        "- (5 pts) Given $J = \\text{diag}(1, -1)$ and $A = \\begin{bmatrix}\n",
        "3   \\ -1\\\\\n",
        "-1\\   \\ 3\\\\\n",
        "\\end{bmatrix}$, prove that $A$ is not J-decomposable.\n",
        "\n",
        "\n",
        "- (8 pts) Given that $A \\in \\mathbb{C}^{n \\times n}$ is diagonalizable, show that it has pseudoschur J-decomposition for any $J$ of form $J=\\text{diag}(\\pm 1, \\dots, \\pm 1)$.\n",
        "Note that in order to solve that subproblem you should firstly prove the following fact:\n",
        "\n",
        "    Let $S \\in \\mathbb{C}^{m \\times n},\\ m \\ge n,\\ J = \\text{diag}(\\pm 1).$ If $A = S^{*}JS$ and $det(A) \\ne 0$, then exists QR decomposition of $S$ with respect to $J$: \n",
        "    $$S = P_1 QR P_2^{*} = P_1 Q \\begin{bmatrix} R_1 \\\\ 0 \\end{bmatrix} P_2^{*}, \\ Q^{*} J^{'}Q = J^{'}, \\ J^{'} = P_1^{*}JP_1,$$ where $P_1$ and $P_2$ are permutation matrices, $Q$ is called $J^{'}$- unitary and $R_1$ is almost triangular.\n"
      ]
    },
    {
      "cell_type": "markdown",
      "metadata": {
        "id": "yOMLC-jM4hnU"
      },
      "source": [
        "- (2 pts) $A$ has pseudoschur J-decomposition $A = V T V^{-1}, \\ \\text{where}\\ V = \\begin{bmatrix} v_1 & v_2 &  \\ldots & v_n \\end{bmatrix}, \\ T = \\begin{bmatrix} T_{ij} \\end{bmatrix}$ and $v_1$ is $\\textbf{not}$ an eigenvector of $A$. Show that $T_{21} \\ne 0$."
      ]
    },
    {
      "cell_type": "markdown",
      "metadata": {
        "id": "60Krwuqj7WkU"
      },
      "source": [
        "$A = VTV^{-1} \\Rightarrow AV = VT$ where $V = \\begin{bmatrix} v_1 & v_2 &  \\ldots & v_n \\end{bmatrix}$\n",
        "\n",
        "$T = \\begin{bmatrix}\n",
        "T_{11} & T_{12} & \\ldots \\\\\n",
        "T_{21} & T_{22} & \\ldots \\\\\n",
        "0 & \\ldots \\\\\n",
        "\\vdots\\\\\n",
        "0 & 0 &\\ldots\n",
        "\\end{bmatrix}$\n",
        " \n",
        "$VT = \\begin{bmatrix}\n",
        "v_1T_{11} + v_2T_{21}; & \\ldots\n",
        "\\end{bmatrix}$\n",
        "\n",
        "$AV = \\begin{bmatrix}\n",
        "Av_1; & \\ldots\n",
        "\\end{bmatrix}$\n",
        "\n",
        "$AV = VT \\Rightarrow v_1T_{11} + v_2T_{21} = Av_1$\n",
        "\n",
        "If $T_{21} = 0$ then  $v_1T_{11} + 0 = Av_1 \\rightarrow Av_1 = T_{11}v_1 \\rightarrow$ $v_1$ - eigenvector of matrix $A$. W (contradiction) $\\Rightarrow T_{21} \\ne 0$"
      ]
    },
    {
      "cell_type": "markdown",
      "metadata": {
        "id": "g3lTk_kY-idu"
      },
      "source": [
        "\n",
        "- (5 pts) Given $J = \\text{diag}(1, -1)$ and $A = \\begin{bmatrix}\n",
        "3   \\ -1\\\\\n",
        "-1\\   \\ 3\\\\\n",
        "\\end{bmatrix}$, prove that $A$ is not J-decomposable.\n",
        "  "
      ]
    },
    {
      "cell_type": "markdown",
      "metadata": {
        "id": "rI_fNM8mgFMD"
      },
      "source": [
        "$V = \\begin{bmatrix} v_1 & v_2 \\end{bmatrix} = \\begin{bmatrix} \n",
        "v_{11} & v_{21} \\\\\n",
        "v_{12} & v_{22}\n",
        "\\end{bmatrix}$\n",
        "\n",
        "$T = \\begin{bmatrix}\n",
        "T_{11} & T_{12}\\\\\n",
        "0 & T_{22}\n",
        "\\end{bmatrix}$\n",
        "\n",
        "$A = \\begin{bmatrix}\n",
        "3 & -1\\\\\n",
        "-1 & 3\n",
        "\\end{bmatrix}$\n",
        "\n",
        "Let's consider A - J-decomposable, that means $VT = AV \\rightarrow \\begin{bmatrix} \n",
        "v_{11} & v_{21} \\\\\n",
        "v_{12} & v_{22}\n",
        "\\end{bmatrix}\\begin{bmatrix}\n",
        "T_{11} & T_{12}\\\\\n",
        "0 & T_{22}\n",
        "\\end{bmatrix} = \\begin{bmatrix}\n",
        "3 & -1\\\\\n",
        "-1 & 3\n",
        "\\end{bmatrix} \\begin{bmatrix} \n",
        "v_{11} & v_{21} \\\\\n",
        "v_{12} & v_{22}\n",
        "\\end{bmatrix}$\n",
        "\n",
        "\\begin{equation*}\n",
        " \\begin{cases}\n",
        "   v_{11}T_{11} = 3v_{11} - v_{12} & (1)\\\\\n",
        "   v_{11}T_{12} + v_{21}T_{22} = 3v_{21} - v_{22} &(2)\\\\\n",
        "   v_{12}T_{11} = -v_{11} +3v_{12} &(3)\\\\\n",
        "   v_{12}T_{12}+ v_{22}T_{22} = -v_{21} +3v_{22} & (4)\n",
        " \\end{cases}\n",
        "\\end{equation*}\n",
        "\n",
        "$(1) - (3) = T_{11}(v_{11} - v_{12}) = 4(v_{11} - v_{12}) \\rightarrow T_{11} = 4 \\text {  or   } v_{11} = v_{12}$\n",
        "\n",
        "If $T_{11} = 4 \\rightarrow 4v_{11} = 3v_{11} - v_{12} \\rightarrow v_{11} = -v_{12}$\n",
        "\n",
        "But as we have $V$ - $\\textbf{J-orthonormal}$\n",
        "\n",
        "$[v_{1}, v_{1}] = v_{1}^*Jv_{1} = \\pm 1$\n",
        "\n",
        "$\\begin{bmatrix} v_{11} & v_{12} \\end{bmatrix} \\begin{bmatrix} 1 & 0 \\\\ 0 & -1 \\end{bmatrix} \\begin{bmatrix} v_{11} \\\\ v_{12} \\end{bmatrix} = \\begin{bmatrix} v_{11}^* & -v_{12}^*\\end{bmatrix}\\begin{bmatrix} v_{11} \\\\ v_{12} \\end{bmatrix}  = v_{11}^2 - v_{12}^2 = (v_{11} - v_{12})(v_{11} + v_{12}) = \\pm 1 \\rightarrow v_{11} \\ne v_{12} \\text{    and    } v_{11} \\ne -v_{12} -> $ $A$ is not J-decomposable. \n"
      ]
    },
    {
      "cell_type": "code",
      "metadata": {
        "id": "lAR4dXMOOGI_"
      },
      "source": [
        "# Your solutuion is here"
      ],
      "execution_count": null,
      "outputs": []
    },
    {
      "cell_type": "markdown",
      "metadata": {
        "id": "herV0xZ3OGJB"
      },
      "source": [
        "## Problem 4. (Skeleton decomposition) 28 pts\n",
        "\n",
        "The application that we are particularly interested in is\n",
        "the approximation of a given matrix by a low-rank matrix:\n",
        "\n",
        "$$ A \\approx UV^T, A \\in \\mathbb{R}^{m \\times n}, U \\in \\mathbb{R}^{m \\times r}, V \\in \\mathbb{R}^{n \\times r}.$$\n",
        "\n",
        "It is well known that the best (in any unitary invariant norm) low-rank approximation can be computed via singular value decomposition (SVD). As an alternative, we can consider skeleton decompostion of the form:\n",
        "\n",
        "$$A \\approx A_r = A(: , \\mathcal{J})A(\\mathcal{I} , \\mathcal{J})^{-1}A(\\mathcal{I} , :),$$\n",
        "where $\\mathcal{I,J}$ are some index sets of length $r$."
      ]
    },
    {
      "cell_type": "markdown",
      "metadata": {
        "id": "fK7v5oD4d6zR"
      },
      "source": [
        "Below we consider the matrix $N \\times N$ derived from the following function discretization in the uniform grid in square $[0, 1] \\times [0, 1]$:\n",
        "$ f(x, y) = \\exp(-\\sqrt{x^2 + y^2})$.\n",
        "It means that $A = [a_{ij}]$, where $a_{ij} = f(x_i, x_j)$ and $x_i = i / (N-1)$, $x_j = j / (N-1)$, where $i, j = 0,\\ldots, N-1$.\n",
        "\n",
        "- (2 pts) compose this matrix for $N = 5000$ without loops (Hint: function ```np.meshgrid``` can help you)\n"
      ]
    },
    {
      "cell_type": "code",
      "metadata": {
        "id": "W6OvG8PJdenP"
      },
      "source": [
        "import numpy as np\n",
        "N = 5000\n",
        "xy = np.meshgrid(np.arange(0,1.0,1/N),np.arange(0,1.00,1/N))"
      ],
      "execution_count": 1,
      "outputs": []
    },
    {
      "cell_type": "code",
      "metadata": {
        "colab": {
          "base_uri": "https://localhost:8080/"
        },
        "id": "_2opLrwtPoei",
        "outputId": "2e7cd0d0-f74b-4a65-e301-00554878bef7"
      },
      "source": [
        "A = np.exp(-np.sqrt((xy[0]**2 + xy[1]**2)))\n",
        "A"
      ],
      "execution_count": 2,
      "outputs": [
        {
          "output_type": "execute_result",
          "data": {
            "text/plain": [
              "array([[1.        , 0.99980002, 0.99960008, ..., 0.36810024, 0.36802662,\n",
              "        0.36795302],\n",
              "       [0.99980002, 0.9997172 , 0.99955289, ..., 0.36810023, 0.36802662,\n",
              "        0.36795302],\n",
              "       [0.99960008, 0.99955289, 0.99943447, ..., 0.36810021, 0.36802659,\n",
              "        0.36795299],\n",
              "       ...,\n",
              "       [0.36810024, 0.36810023, 0.36810021, ..., 0.24332311, 0.2432887 ,\n",
              "        0.24325429],\n",
              "       [0.36802662, 0.36802662, 0.36802659, ..., 0.2432887 , 0.2432543 ,\n",
              "        0.2432199 ],\n",
              "       [0.36795302, 0.36795302, 0.36795299, ..., 0.24325429, 0.2432199 ,\n",
              "        0.24318551]])"
            ]
          },
          "metadata": {
            "tags": []
          },
          "execution_count": 2
        }
      ]
    },
    {
      "cell_type": "code",
      "metadata": {
        "id": "v1NKMwRyt9WD"
      },
      "source": [
        "i,j = np.unravel_index(A.argmax(), A.shape)"
      ],
      "execution_count": 3,
      "outputs": []
    },
    {
      "cell_type": "markdown",
      "metadata": {
        "id": "Rj_OMuY7gvH9"
      },
      "source": [
        "- (3 pts) Compute Skeleton approximation with random selection of rows and columns indices for $r = 5$ (check that submatrix in the intersection of rows and columns is nonsingular). Average the relative error $\\frac{\\|A - A_r \\|_F}{\\|A\\|_F}$ over $M$ samples of column/row indices. Check that $M$ is sufficiently large to provide stable mean.\n",
        "\n",
        " Note: extracting submatrices should be done according to ```numpy```  e.g. ```A[index_set, :]``` to extract selected rows, ```A[:, index_set]``` to extract selected columns etc..\n"
      ]
    },
    {
      "cell_type": "code",
      "metadata": {
        "id": "Qw4m6q0qjaSr"
      },
      "source": [
        "def sckeleton (A,r):\n",
        "  err = []\n",
        "  cond = [] \n",
        "  m = 0\n",
        "  while m < 100:\n",
        "      index_set_rows = np.random.choice(A.shape[0], r, replace=False)\n",
        "      index_set_cols = np.random.choice(A.shape[0], r, replace=False)\n",
        "      R = A[index_set_rows, :]\n",
        "      C = A[:, index_set_cols]\n",
        "      A_hat = R[:, index_set_cols]\n",
        "      #print (jax.numpy.linalg.cond(A_hat))\n",
        "      if jax.numpy.linalg.cond(A_hat) < 1e6:\n",
        "        A_r = (C.dot(jax.numpy.linalg.inv(A_hat))).dot(R)\n",
        "        er = jax.numpy.linalg.norm(A - A_r, ord = 'fro')/jax.numpy.linalg.norm(A, ord = 'fro')\n",
        "        err.append(er)\n",
        "        cond.append(jax.numpy.linalg.cond(A_hat))\n",
        "        #print(er)\n",
        "        m += 1\n",
        "  return err,cond\n",
        "\n",
        "\n",
        "\n"
      ],
      "execution_count": 4,
      "outputs": []
    },
    {
      "cell_type": "code",
      "metadata": {
        "id": "1iyRrkIyaffY"
      },
      "source": [
        "import jax.numpy as jnp\n",
        "import jax\n",
        "import numpy as np\n",
        "from jax.config import config\n",
        "config.update(\"jax_enable_x64\", True)"
      ],
      "execution_count": 5,
      "outputs": []
    },
    {
      "cell_type": "code",
      "metadata": {
        "id": "yRXudoMVc3x2"
      },
      "source": [
        "err, cond = sckeleton (A,r=5)"
      ],
      "execution_count": null,
      "outputs": []
    },
    {
      "cell_type": "code",
      "metadata": {
        "id": "_-OwQ0jHh2zo",
        "colab": {
          "base_uri": "https://localhost:8080/"
        },
        "outputId": "7834dee0-d603-4b1d-dd33-c3b044a70bd3"
      },
      "source": [
        "err = np.array(err)\n",
        "print(err.sum()/len(err))"
      ],
      "execution_count": null,
      "outputs": [
        {
          "output_type": "stream",
          "text": [
            "0.002558309849885289\n"
          ],
          "name": "stdout"
        }
      ]
    },
    {
      "cell_type": "markdown",
      "metadata": {
        "id": "lwP2qdOCkTBo"
      },
      "source": [
        "As you should know from the lecture, if $A$ is of rank $r$ and $\\hat{A} = A(\\mathcal{I} , \\mathcal{J})$ is nonsingular, then the exact equality holds. In the approximate case, however, the quality of the approximation depends on the volume of the submatrix $\\hat{A}$: \n",
        "\n",
        "**Theorem**\n",
        "\n",
        "*If $\\hat{A} = A_{max}$ has maximal in modulus determinant among all $r \\times r$ submatrices of $A$, the following error etimate holds:*\n",
        "\n",
        "$$ \\|A - A_r\\|_1 \\leq (r+1)\\sigma_{r+1}.$$\n",
        "\n",
        "\n",
        "And the question is how to choose a good submatrix of nearly maximal volume in practice.\n",
        "\n",
        "**Definition**: *We call $r \\times r$ submatrix $A_{dom}$ of rectangular $n \\times r$ matrix $A$ of\n",
        "full rank dominant, if all the entries of $AA_{dom}^{-1}$ are not greater than $1$ in\n",
        "modulus.*\n",
        "\n",
        "The crucial theoretical result behind the scene is that the volume of any dominant submatrix $A_{dom}$ can not be very much smaller than the maximum volume submatrix $A_{max}$ (without proof).\n",
        "\n",
        "We provide the following algorithm for constructing dominant submatrix of a tall matrix.\n",
        "\n",
        "**Algorithm 1**: \n",
        "    \n",
        "Given matrix $A$ of size $n \\times r$ finds dominant submatrix of size $r \\times r$\n",
        "\n",
        "1. Start with arbitrary nonsingular $r \\times r$ submatrix $A_{dom}$. Reorder rows in $A$ so that $A_{dom}$ occupies first $r$ rows in $A$.\n",
        "\n",
        "2. Compute $B = AA_{dom}^{-1}$ and find its maximum in module  entry $b_{ij}$.\n",
        "\n",
        "3. **If $|b_{ij}| > 1 + \\delta$, then**:\n",
        "\n",
        "    Swap rows $i$ and $j$ in $B$ (accrodignly in A). By swapping the rows we have increased the volume of the upper submatrix in $B$, as well as in $A$ (why?). Let $A_{dom}$ be the new upper submatrix of $A$ and go to __step 1__.\n",
        "\n",
        "    **elseif $|b_{ij}| < 1 + \\delta$**:\n",
        "    \n",
        "    return $A_{dom}$.\n",
        "\n",
        "Note: $\\delta = 10^{-2}$ seems to be a good practical choice."
      ]
    },
    {
      "cell_type": "markdown",
      "metadata": {
        "id": "v68vVZrJnryX"
      },
      "source": [
        "- (10 pts) Implement algorithm 1 according to the following signature, where the function returns ```row_indices``` array which can be used as ```A[row_indices, :]``` to extract selected submatrix.\n",
        "\n",
        "Note that matrix inverse $A_{dom}^{-1}$ in step 3 has to be updated efficiently using [Shermann-Morison formula](https://en.wikipedia.org/wiki/Sherman%E2%80%93Morrison_formula) (inverse of rank-1 update)."
      ]
    },
    {
      "cell_type": "code",
      "metadata": {
        "id": "YTSbyzAKkUEP"
      },
      "source": [
        "def dominant_submatrix_search(A):\n",
        "  r = A.shape[1]\n",
        "  n = A.shape[0]\n",
        "  delta = 10**(-2) \n",
        "  index_set_rows = np.random.choice(n, r, replace=False)\n",
        "  A_dom = A[index_set_rows,:]\n",
        "  while jax.numpy.linalg.cond(A_dom) > 1e6:\n",
        "     index_set_rows = np.random.choice(n, r, replace=False)\n",
        "     A_dom = A[index_set_rows,:]\n",
        "  another_index_set = list(set(np.arange(n)).difference(index_set_rows)) \n",
        "  A_part = A[another_index_set, :]\n",
        "  A = np.vstack((A_dom, A_part))\n",
        " \n",
        "  A_dom_inv = jax.numpy.linalg.inv(A_dom)\n",
        "  m = 0\n",
        "  B = A.dot(A_dom_inv)\n",
        "  while (1):\n",
        "      \n",
        "       i,j = np.unravel_index(abs(B[r+1:, :]).argmax(), B.shape)\n",
        "       \n",
        "       if B[i,j] > 1 + delta:\n",
        "          A[[i,j]] = A[[j,i]] \n",
        "\n",
        "          u = np.zeros(A_dom.shape[0])\n",
        "          u[j] = 1\n",
        "          v = A[i]-A[j]\n",
        "          \n",
        "          A_dom_inv = A_dom_inv - (((A_dom_inv.dot(u)).dot(v.T)).dot(A_dom_inv))/(1 + ((v.T).dot(A_dom_inv)).dot(u))\n",
        "         \n",
        "          e_i = np.zeros((n,1))\n",
        "          e_i[i] = 1\n",
        "          e_j = np.zeros((n,1))\n",
        "          e_j[j] = 1\n",
        "          B = B - (B[:, j].reshape(n,1) + e_i ) @ (B[i, :].reshape(1,r) - e_j[:r].T) / B[i, j]\n",
        "          index_set_rows[j] = i\n",
        "          \n",
        "          \n",
        "       else:\n",
        "         return index_set_rows\n",
        "         break\n",
        "     "
      ],
      "execution_count": 42,
      "outputs": []
    },
    {
      "cell_type": "code",
      "metadata": {
        "colab": {
          "base_uri": "https://localhost:8080/"
        },
        "id": "YUgGwjT2E8KB",
        "outputId": "754cbf00-6b2d-4212-f48f-7590e10b59ee"
      },
      "source": [
        "for i in range (100):\n",
        "  row_indices = dominant_submatrix_search(np.random.rand(5000, 10))\n",
        "  print(row_indices)"
      ],
      "execution_count": 43,
      "outputs": [
        {
          "output_type": "stream",
          "text": [
            "[ 241 4126 3458 2725 4975  895 4276  125  469  227]\n",
            "[1348 2739 3398 4869 4840 2160 4995 3782 4147 2913]\n",
            "[3273 4926 1009  361 4167  424 1960  162  268 2607]\n",
            "[1848 3318 2397 3853 4309 2670 2903 3987 1645 1786]\n",
            "[ 131 1489 1775 1455 2471 2131 1637 1862 4766   61]\n",
            "[2077  684  282 3848 2696 2018 3228 1400 1719 3602]\n",
            "[4626  957 2150 4833 1387 2727  512  234 2009 1038]\n",
            "[2855 2044 4904 1480   85  874 1425 4760 2610 4604]\n",
            "[2246 4074 2026   93 1607 3620 2178  324  573 2641]\n",
            "[  88 2385 4874 2217 1201  593 1253 4543  755 2543]\n",
            "[4624 3522  657 4065 3208 2298 3304 3699 2981 4619]\n",
            "[4433 4889 4570   19 3996 3087 1614 4151 2034 2598]\n",
            "[3914 4483 2808 1829 3422 3258 2386 1159 3433 4173]\n",
            "[4168 3205 4320  762 4049 2444 4139  793 4199 1983]\n",
            "[  71 2750 1728 4416  286   12 2341 3318 1351 1178]\n",
            "[1979 2703 3872 1310 3234  642 1175 3947 2334 3920]\n",
            "[  41  371 4015 4564 2425  858 3549 2328 3565 4995]\n",
            "[1366 3979  884 1522  896 4348 4928  146 4786 4283]\n",
            "[1409 3239 3731 4450 2533 2618  403 2955 3704 1663]\n",
            "[3830 2553 1223  623 1713 3834 2037 1447  242 2415]\n",
            "[3566 4630 1412 3542 2635 3162 2391 2033 1241 2946]\n",
            "[4693 4315 1359  962  360 2669  926 4568 1962 4881]\n",
            "[2621 4188 2761 3084 1481  619 1742 3584 4147 4661]\n",
            "[4619 1060 1255 3017 4778  868 2294  932 3896 2540]\n",
            "[  72 2917 3672  325  708 2387 1045 3867 2640 3307]\n",
            "[1421  147 3307 2180 2336 2047  361 3882 3421  276]\n",
            "[3779 2754 3065 3778  131 1646 3897 2937 3170  959]\n",
            "[ 617  998 3412 1674  131  562 2127  988 3917 4795]\n",
            "[3514  644  913  909 2304 2459 4677 3806 1780 2139]\n",
            "[1443 3205 4941 2406 4689 1979 1353 2356 3438 1793]\n",
            "[2471  233  991  567 3648 4890 4041 3956 4828  335]\n",
            "[4330  834 2985 4706 4711  158 2879 4851  738 2952]\n",
            "[3710 3758  379 1810 1509 1846 4621 4870 2425 1188]\n",
            "[1871  206 3725  942 1916 3321   86  303 2492 4736]\n",
            "[   5  831 2314 3095 2982  679 1241 1113 2844 3880]\n",
            "[ 531 4719 3831 4812 3677 1822  379 4455 2080 2162]\n",
            "[3756 3649  241 2122  953 1534  176 2630 2086 4769]\n",
            "[4875 3221 4704 1527 3896 3102  401   42 4575 2536]\n",
            "[ 299  435 4935 4869 3218 4250 3818 1408 4060 2084]\n",
            "[2162 4637 3015 2110 2307 4274 2508 1785 2979 4790]\n",
            "[3516 3252 3245 1533 4693  425 1120  882 4577  585]\n",
            "[3852 3724 1139  655 4247 1017 4025 2934 2892 1172]\n",
            "[1514  328 4222 1108  773 1109 1399  399 4340  661]\n",
            "[ 597  680  773 3587 4252 2705 2191 2470  794 4158]\n",
            "[4743 4148 3410 1963 3810  758 2150 3232   99  921]\n",
            "[4167 1329 1758  840 4708 3426 2135 3637 4037 3440]\n",
            "[3140 4050 4725 3279 1353 1707 2491  872 3270 3174]\n",
            "[2184  169 3326 1183 4402  929 3918  243 4091 4426]\n",
            "[1017 1039 1365 3385 1909 2985  727 4008 4796 2655]\n",
            "[2989 2256 4922 4957 2175 1608  474 4566 3411 2183]\n",
            "[4508  469 2850 1802 4687  797 3656 2099 3368 3654]\n",
            "[2781 4835 4604 3635 4338 3793 4210 4172 1906 1462]\n",
            "[1497 1087   31 4554 2488 4194 4838 2836 3322 3209]\n",
            "[ 154  771 1147 1460 3664 3566 1064 1929 3032 4998]\n",
            "[4757 1442 2651 1511 4980 4773 4233  145 4979 1766]\n",
            "[4464 4605 3314 3097 1562 4833 3985 1356 1093 2975]\n",
            "[1192 2086 3146 1561  846 2930 4947 1051  925 1197]\n",
            "[4472 4401  355 2180  728  690 4506 2045  614  817]\n",
            "[1638 2954 3762   75 1251 3870 2009 4708 4697 1932]\n",
            "[4511 3582 1057 2673  955  110 1840 2720 4920 4351]\n",
            "[3937  307 3283 3627  731 4517 2015 4239 1599 2007]\n",
            "[ 892  626 4132 2324  679  745 1284  527 3028 4195]\n",
            "[1282 3138 2101 1244  268 1559  301  693 1625 1015]\n",
            "[3800 4179 4503  759 2588  374 4699 2670 3924 2231]\n",
            "[3740 2215  534 1522 1172 3014 1959 3628 3941  137]\n",
            "[4542 2911 2288 2847 4459  690 4025  206 2176 2618]\n",
            "[3965 2982 3865 4425  464  206  485 1266 1311 3938]\n",
            "[1760  386 1166 3282 1340 4857 3144  213  150 2480]\n",
            "[  78 3718 4637 1304 2981 2968 4223 1813 2797 2107]\n",
            "[ 144 3707 2720 3570  486 3463 4270 3259  375 3747]\n",
            "[ 384 2633 1973 2179 4198 3639 4034 1828 4252 1083]\n",
            "[3204 3522 1447 4360 4941 2226  490 4251 2923  276]\n",
            "[2800 2322  198  496 3759 2600 2807  360 3906 2854]\n",
            "[2765 2496 2618 4750 4358 4909  888 3229 3142 2039]\n",
            "[2180 2704  824 1304 2875 3409 1701 4382 4536 4955]\n",
            "[4610 4754 3971 1199 1328 1382 3777 3829 4776 4995]\n",
            "[3739  837  620  891 1356 3330 3677  260 3992 2435]\n",
            "[2136  383  101 2881 2851 3982 1525 1823 3213 3755]\n",
            "[  74 2682 3291  596  578 1268 1316 2210   14 3719]\n",
            "[3514 2800 1369 1118 2010 4130 3158  252 3231 1559]\n",
            "[4882 2281  909 2905 4482 4185 3339  550  436 1348]\n",
            "[3090 1464 4814 3037 1638 2306 2144 1751 4187 3978]\n",
            "[3842 3290 3908 1565 4466  783 4520 3065 1851   33]\n",
            "[ 670 3209 3959 1231 2945  485  865 1373 4844 1128]\n",
            "[2409 3607 4671 2747 1931 1333   99 4763 4826 3219]\n",
            "[2087  880 2329 4297 4723  167 3755 3463 1267  680]\n",
            "[ 931  571 4326 1579  974 3144 3615  883 4871  154]\n",
            "[ 673  641 4601 2579 2211 3170 1522 4416 1018  574]\n",
            "[2379  462  575  239 3935 2900 4887 1722  574 3243]\n",
            "[4729 3930 3151 3974 3843 4341 3095 4107 4326 4872]\n",
            "[1559  404 4554 4188 4428 4728 3888 3356 3484  576]\n",
            "[4226 3078 3639  306 4591 4976 4428 4728 4949 1918]\n",
            "[ 704 4433  431 1704 2117  192 4184 4967 4193  965]\n",
            "[1003 2819 1771 2659 3414 3034 1871 3093 3686  908]\n",
            "[4230  372 2749 2171 3338 4431 2643 1870 4197 4352]\n",
            "[ 186 2176 1124 1231 4108 4541  645 4402 1802 4805]\n",
            "[3535 1257 1008 2835 3452 2395 1986  173 3466 1492]\n",
            "[ 438  235 2491 4554 4959 3972 1880 4645 3799  759]\n",
            "[ 582 4205 4679  415 4883  179  320 3051  752 1442]\n",
            "[1256 2451 2442 4624 3822 3128 2584 3528 4453 2511]\n"
          ],
          "name": "stdout"
        }
      ]
    },
    {
      "cell_type": "markdown",
      "metadata": {
        "id": "zVIzSkvaqwDm"
      },
      "source": [
        "- (10 pts) Propose the method to construct Skeleton approximation using Algorithm 1. The signature of the function is provided below.  Compare your algorithm with previously considered random selection on the matrix $A$.\n",
        "\n",
        "Hint: \n",
        "\n",
        "1) start with random selection of columns \n",
        "\n",
        "2) if you transpose the matrix for which you find rows, then Algorithm 1 will give you update for columns in the initial matrix"
      ]
    },
    {
      "cell_type": "code",
      "metadata": {
        "id": "AbJRXIJNrbNz"
      },
      "source": [
        "def skeleton(A,r):\n",
        "    err_dom = []\n",
        "    #cond = [] \n",
        "    \n",
        "    index_set_cols = np.random.choice(A.shape[0], r, replace=False)\n",
        "    for i in range (5):\n",
        "      index_set_rows = dominant_submatrix_search(A[:, index_set_cols])[:r]\n",
        "    #print(len(index_set_rows))\n",
        "      index_set_cols = dominant_submatrix_search(A[index_set_rows,:].T)[:r]\n",
        "    R = A[index_set_rows, :]\n",
        "    C = A[:, index_set_cols]\n",
        "    A_hat = R[:, index_set_cols]\n",
        "    while jax.numpy.linalg.cond(A_hat) > 1e6:\n",
        "      index_set_cols = np.random.choice(A.shape[0], r, replace=False)\n",
        "      index_set_rows = dominant_submatrix_search(A[:, index_set_cols])[:r]\n",
        "      index_set_cols = dominant_submatrix_search(A[index_set_rows,:].T)[:r]\n",
        "      R = A[index_set_rows, :]\n",
        "      C = A[:, index_set_cols]\n",
        "      A_hat = R[:, index_set_cols]\n",
        "\n",
        "    A_r = (C.dot(jax.numpy.linalg.inv(A_hat))).dot(R)\n",
        "    er = jax.numpy.linalg.norm(A - A_r, ord = 'fro')/jax.numpy.linalg.norm(A, ord = 'fro')\n",
        "    return er\n",
        "    \n",
        "    "
      ],
      "execution_count": 9,
      "outputs": []
    },
    {
      "cell_type": "markdown",
      "metadata": {
        "id": "hF8a5rTSs8Ie"
      },
      "source": [
        "- (3 pts) Compare your ```skeleton``` approximation algorithm with SVD and discuss its pros and cons."
      ]
    },
    {
      "cell_type": "code",
      "metadata": {
        "id": "kgld0FW_r2xP"
      },
      "source": [
        "err = []\n",
        "for i in range (17):\n",
        "  print(i)\n",
        "  A = np.exp(-np.sqrt((xy[0]**2 + xy[1]**2)))\n",
        "  err.append(skeleton(A,r = 5))"
      ],
      "execution_count": null,
      "outputs": []
    },
    {
      "cell_type": "code",
      "metadata": {
        "colab": {
          "base_uri": "https://localhost:8080/"
        },
        "id": "QcDktDl-8c2j",
        "outputId": "d11f2b2c-4ef5-48f1-f9a1-eb37b92c9185"
      },
      "source": [
        "print('skeleton',(skeleton(A,r = 5)))\n"
      ],
      "execution_count": 31,
      "outputs": [
        {
          "output_type": "stream",
          "text": [
            "skeleton 0.0005443144269320899\n"
          ],
          "name": "stdout"
        }
      ]
    },
    {
      "cell_type": "code",
      "metadata": {
        "id": "QCpAn7ZoTXIx",
        "colab": {
          "base_uri": "https://localhost:8080/"
        },
        "outputId": "ee805759-811a-43c7-a2ad-ec409f6238a1"
      },
      "source": [
        "U,S,V = jnp.linalg.svd(A, full_matrices=False)\n",
        "print('SVD ', np.linalg.norm(A - U * S @ V, ord='fro')/np.linalg.norm(A, ord='fro'))"
      ],
      "execution_count": 4,
      "outputs": [
        {
          "output_type": "stream",
          "text": [
            "SVD  1.0367214698722098e-15\n"
          ],
          "name": "stdout"
        }
      ]
    }
  ]
}